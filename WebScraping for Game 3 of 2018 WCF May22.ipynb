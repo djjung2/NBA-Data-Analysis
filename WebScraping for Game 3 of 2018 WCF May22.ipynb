{
 "cells": [
  {
   "cell_type": "markdown",
   "metadata": {},
   "source": [
    "# Content of Notebook\n",
    "\n",
    "In this notebook, we will improve upon the code written in \"WebScraping May 21\". The goal will still be to convert the Team Stats table for Game 3 of the 2018 Western Conference Finals between the Houston Rockets and the Golden State Warriors. \n"
   ]
  },
  {
   "cell_type": "markdown",
   "metadata": {},
   "source": [
    "## Getting team stats table\n",
    "\n",
    "We begin with a link that has a table for the team stats. We use the requests and BeautifulSoup library to extract this table."
   ]
  },
  {
   "cell_type": "code",
   "execution_count": 1,
   "metadata": {
    "collapsed": true
   },
   "outputs": [],
   "source": [
    "#link to Team stats page for Game 3\n",
    "url = \"http://www.espn.com/nba/matchup?gameId=401032763\"\n",
    "\n",
    "import requests\n",
    "\n",
    "page = requests.get(url) #Response object\n",
    "html = page.content #html file"
   ]
  },
  {
   "cell_type": "code",
   "execution_count": 2,
   "metadata": {
    "collapsed": false
   },
   "outputs": [],
   "source": [
    "from bs4 import BeautifulSoup\n",
    "\n",
    "soup = BeautifulSoup(html, 'lxml')\n",
    "\n",
    "tables = soup.find_all('table') "
   ]
  },
  {
   "cell_type": "code",
   "execution_count": 3,
   "metadata": {
    "collapsed": false
   },
   "outputs": [],
   "source": [
    "tb0 = tables[0].tbody #name of team, points per quarter, total quarter\n",
    "tb1 = tables[1].tbody #team stats\n",
    "\n",
    "visitor_team_name_points, home_team_name_points = [], []\n",
    "\n",
    "[visitor_team_row, home_team_row] = [row for row in tb0.find_all('tr')]\n",
    "\n",
    "visitor_team_name_points = [val.contents[0].strip() for val in visitor_team_row.find_all('td')]\n",
    "home_team_name_points = [val.contents[0].strip() for val in home_team_row.find_all('td')]"
   ]
  },
  {
   "cell_type": "markdown",
   "metadata": {},
   "source": [
    "## Lists of names of stats with corresponding stats\n",
    "\n",
    "We go through the table to create lists of stat names, the visitor stats and the home stats. Then we append these stats to the team name and point totals found before. "
   ]
  },
  {
   "cell_type": "code",
   "execution_count": 4,
   "metadata": {
    "collapsed": false
   },
   "outputs": [
    {
     "name": "stdout",
     "output_type": "stream",
     "text": [
      "['HOU', '22', '21', '24', '18', '85', '32', '81', '39.5', '11', '34', '32.4', '10', '13', '76.9', '41', '10', '31', '19', '3', '5', '20', '28', '10', '40', '19', '2', '0']\n"
     ]
    }
   ],
   "source": [
    "#Different names of stats with corresponding stats for visitors and home \n",
    "tb1_stat_names, tb1_visitor_stats, tb1_home_stats = [], [], []\n",
    "\n",
    "#cycles over different stats\n",
    "for row in tb1.find_all('tr'):\n",
    "    \n",
    "    tdx = [val for val in row.find_all('td')]\n",
    "    \n",
    "    #extract names, visitor stat, home stat for each stat and store in lists\n",
    "    #split by '-' to accomodate stats with 'Made-Attempted' (split into two stats)\n",
    "    tb1_stat_names += tdx[0].contents[0].strip().split('-')\n",
    "    tb1_visitor_stats += tdx[1].contents[0].strip().split('-')\n",
    "    tb1_home_stats += tdx[2].contents[0].strip().split('-')\n",
    "    \n",
    "#precede each name of 'Attempted' with type of shot attempted\n",
    "tb1_stat_names[1] = 'FG Attempted'\n",
    "tb1_stat_names[4] = '3PT Attempted'\n",
    "tb1_stat_names[7] = 'FT Attempted'\n",
    "\n",
    "tb0_stat_names = ['Team name', '1st Qtr Points', '2nd Qtr Points', \\\n",
    "                  '3rd Qtr Points', '4th Qtr Points', 'Total Points']\n",
    "stat_names = tb0_stat_names + tb1_stat_names\n",
    "visitor_stats = visitor_team_name_points + tb1_visitor_stats\n",
    "home_stats = home_team_name_points + tb1_home_stats\n",
    "\n",
    "print(visitor_stats)"
   ]
  },
  {
   "cell_type": "code",
   "execution_count": 5,
   "metadata": {
    "collapsed": false
   },
   "outputs": [
    {
     "data": {
      "text/plain": [
       "\"\\n\\nfor idx in range(len(tb1_stat_names)):\\n    if '%' in stat_names[idx]:\\n        visitor_stats[idx] = float(visitor_stats[idx])\\n        home_stats[idx] = float(home_stats[idx])\\n    elif stat_names[idx] == 'Team name':\\n        pass\\n    else:\\n        visitor_stats[idx] = int(visitor_stats[idx])\\n        home_stats[idx] = int(home_stats[idx])\\n        \\n\""
      ]
     },
     "execution_count": 5,
     "metadata": {},
     "output_type": "execute_result"
    }
   ],
   "source": [
    "#all list items are currently string type\n",
    "#change % stat items to float type\n",
    "#change all other stats to int type\n",
    "\n",
    "'''\n",
    "\n",
    "for idx in range(len(tb1_stat_names)):\n",
    "    if '%' in stat_names[idx]:\n",
    "        visitor_stats[idx] = float(visitor_stats[idx])\n",
    "        home_stats[idx] = float(home_stats[idx])\n",
    "    elif stat_names[idx] == 'Team name':\n",
    "        pass\n",
    "    else:\n",
    "        visitor_stats[idx] = int(visitor_stats[idx])\n",
    "        home_stats[idx] = int(home_stats[idx])\n",
    "        \n",
    "'''"
   ]
  },
  {
   "cell_type": "markdown",
   "metadata": {},
   "source": [
    "## Store stats in DataFrame\n",
    "\n",
    "We store the visitor team's stats and home team's stats in a DataFrame. We append an additional column that states which team won. \n",
    "\n",
    "Each of the entries of the DataFrame are currently type string. We convert each percentage stat to type float. We convert all other stats (besides Team Name) to type int."
   ]
  },
  {
   "cell_type": "code",
   "execution_count": 6,
   "metadata": {
    "collapsed": false
   },
   "outputs": [],
   "source": [
    "import pandas as pd\n",
    "\n",
    "stats_df = pd.DataFrame(columns=stat_names)\n",
    "stats_df.loc[0] = visitor_stats\n",
    "stats_df.loc[1] = home_stats"
   ]
  },
  {
   "cell_type": "code",
   "execution_count": 7,
   "metadata": {
    "collapsed": false
   },
   "outputs": [],
   "source": [
    "#append a final column that states which team won\n",
    "if int(stats_df.loc[0,'Total Points']) > int(stats_df.loc[1,'Total Points']):\n",
    "    stats_df.loc[:,'Won?'] = pd.Series([1,0])\n",
    "else:\n",
    "    stats_df.loc[:,'Won?'] = pd.Series([0,1])"
   ]
  },
  {
   "cell_type": "code",
   "execution_count": 8,
   "metadata": {
    "collapsed": false
   },
   "outputs": [],
   "source": [
    "#convert types of entries to correct type\n",
    "\n",
    "column_names = list(stats_df.columns)\n",
    "\n",
    "for column in column_names:\n",
    "    if column == 'Team name':\n",
    "        pass\n",
    "    elif '%' in column:\n",
    "        stats_df[column] = stats_df[column].apply(lambda num: float(num))\n",
    "    else:\n",
    "        stats_df[column] = stats_df[column].apply(lambda num: int(num))"
   ]
  },
  {
   "cell_type": "code",
   "execution_count": 9,
   "metadata": {
    "collapsed": false
   },
   "outputs": [
    {
     "name": "stdout",
     "output_type": "stream",
     "text": [
      "  Team name  1st Qtr Points  2nd Qtr Points  3rd Qtr Points  4th Qtr Points  \\\n",
      "0       HOU              22              21              24              18   \n",
      "1        GS              31              23              34              38   \n",
      "\n",
      "   Total Points  FG Made  FG Attempted  Field Goal %  3PT Made  ...   Steals  \\\n",
      "0            85       32            81          39.5        11  ...        3   \n",
      "1           126       48            92          52.2        13  ...       11   \n",
      "\n",
      "   Blocks  Total Turnovers  Points Off Turnovers  Fast Break Points  \\\n",
      "0       5               20                    28                 10   \n",
      "1       7                8                     8                 23   \n",
      "\n",
      "   Points in Paint  Personal Fouls  Technical Fouls  Flagrant Fouls  Won?  \n",
      "0               40              19                2               0     0  \n",
      "1               56              16                1               0     1  \n",
      "\n",
      "[2 rows x 29 columns]\n"
     ]
    }
   ],
   "source": [
    "print(stats_df)"
   ]
  }
 ],
 "metadata": {
  "kernelspec": {
   "display_name": "Python 3",
   "language": "python",
   "name": "python3"
  },
  "language_info": {
   "codemirror_mode": {
    "name": "ipython",
    "version": 3
   },
   "file_extension": ".py",
   "mimetype": "text/x-python",
   "name": "python",
   "nbconvert_exporter": "python",
   "pygments_lexer": "ipython3",
   "version": "3.6.0"
  }
 },
 "nbformat": 4,
 "nbformat_minor": 2
}
