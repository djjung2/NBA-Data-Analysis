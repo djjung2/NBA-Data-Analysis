{
 "cells": [
  {
   "cell_type": "markdown",
   "metadata": {},
   "source": [
    "# Cleaning players data using SQLite\n",
    "\n",
    "In the last notebook 'Grabbing_all_player_stats-June12', we stored the box score (specifically players stats) for almost every NBA game in 2004-2005 season. With about 36,000 games since 2004, this resulted in about 480,000 player records collected, with 24 fields collected per record.\n",
    "\n",
    "In collecting this data, there were issues with a small proportion of games: either with '--' stored instead of a stat or another critical error. We will first examine how many games had these types of errors. We will then clean our data by handling records with these types of errors.\n",
    "\n",
    "We are interested in cleaning the player data from the 2008-2009 season to the 2017-2018 season. There are two main reasons we restrict to these seasons for cleaning player data:\n",
    "\n",
    "1. In the notebook \"Scraping_all_team_stats- June11\", we gathered and organized team stats for all the games during these 10 seasons.\n",
    "\n",
    "2. Teams didn't keep track of the stat plus/minus before the 2008-2009 season, at least on ESPN.com. For a player, plus/minus is the difference between how much his team scores and how much his opponent scores while the player is in the game. We will see later that even some of the plus/minus stats that are available cannot be trusted."
   ]
  },
  {
   "cell_type": "code",
   "execution_count": 1,
   "metadata": {
    "collapsed": true
   },
   "outputs": [],
   "source": [
    "import numpy as np\n",
    "\n",
    "import pandas as pd\n",
    "pd.set_option('display.max_columns',None)\n",
    "from pandas.util.testing import assert_frame_equal\n",
    "\n",
    "\n",
    "import requests\n",
    "from bs4 import BeautifulSoup\n",
    "from datetime import datetime\n",
    "import time\n",
    "from nose.tools import assert_equal\n",
    "\n",
    "import sqlite3\n"
   ]
  },
  {
   "cell_type": "markdown",
   "metadata": {},
   "source": [
    "## Cleaning 2017-2018 season\n",
    "\n",
    "We will start by cleaning players stats data from the 2017-2018 season. In the previous notebook, we found issues with three games during this season, with Matchup ID's 400975115, 400975606, and 400975750 and boxscores found at http://www.espn.com/nba/boxscore?gameId=400975115, http://www.espn.com/nba/boxscore?gameId=400975606, and http://www.espn.com/nba/boxscore?gameId=400975750, respectively. Examining the box scores, we find that each boxscore has at least one player record with stats listed as '--' or '-----'. As there is no information offered by these records, we will simply eliminate them."
   ]
  },
  {
   "cell_type": "code",
   "execution_count": 2,
   "metadata": {
    "collapsed": false
   },
   "outputs": [],
   "source": [
    "#write 2017-2018 players stats to DataFrame\n",
    "\n",
    "#convert all columns to type string (some were originally int)\n",
    "#remove unnamed column to have indices being row number in DataFrame\n",
    "players_stats_18 = pd.read_csv('all_players_stats_2018.csv', dtype=str).loc[:,'team_name':]"
   ]
  },
  {
   "cell_type": "code",
   "execution_count": 3,
   "metadata": {
    "collapsed": false
   },
   "outputs": [
    {
     "data": {
      "text/html": [
       "<div>\n",
       "<table border=\"1\" class=\"dataframe\">\n",
       "  <thead>\n",
       "    <tr style=\"text-align: right;\">\n",
       "      <th></th>\n",
       "      <th>team_name</th>\n",
       "      <th>player_name</th>\n",
       "      <th>player_id</th>\n",
       "      <th>position</th>\n",
       "      <th>started</th>\n",
       "      <th>played</th>\n",
       "      <th>min</th>\n",
       "      <th>fg_made</th>\n",
       "      <th>fg_attempted</th>\n",
       "      <th>3pt_made</th>\n",
       "      <th>3pt_attempted</th>\n",
       "      <th>ft_made</th>\n",
       "      <th>ft_attempted</th>\n",
       "      <th>oreb</th>\n",
       "      <th>dreb</th>\n",
       "      <th>reb</th>\n",
       "      <th>ast</th>\n",
       "      <th>stl</th>\n",
       "      <th>blk</th>\n",
       "      <th>to</th>\n",
       "      <th>pf</th>\n",
       "      <th>plusminus</th>\n",
       "      <th>pts</th>\n",
       "      <th>matchup_id</th>\n",
       "    </tr>\n",
       "  </thead>\n",
       "  <tbody>\n",
       "    <tr>\n",
       "      <th>0</th>\n",
       "      <td>OKC</td>\n",
       "      <td>carmelo-anthony</td>\n",
       "      <td>1975</td>\n",
       "      <td>PF</td>\n",
       "      <td>yes</td>\n",
       "      <td>yes</td>\n",
       "      <td>32</td>\n",
       "      <td>3</td>\n",
       "      <td>6</td>\n",
       "      <td>3</td>\n",
       "      <td>3</td>\n",
       "      <td>0</td>\n",
       "      <td>0</td>\n",
       "      <td>1</td>\n",
       "      <td>2</td>\n",
       "      <td>3</td>\n",
       "      <td>2</td>\n",
       "      <td>2</td>\n",
       "      <td>1</td>\n",
       "      <td>0</td>\n",
       "      <td>2</td>\n",
       "      <td>12</td>\n",
       "      <td>9</td>\n",
       "      <td>400975872</td>\n",
       "    </tr>\n",
       "    <tr>\n",
       "      <th>1</th>\n",
       "      <td>OKC</td>\n",
       "      <td>corey-brewer</td>\n",
       "      <td>3191</td>\n",
       "      <td>SF</td>\n",
       "      <td>yes</td>\n",
       "      <td>yes</td>\n",
       "      <td>29</td>\n",
       "      <td>5</td>\n",
       "      <td>8</td>\n",
       "      <td>1</td>\n",
       "      <td>4</td>\n",
       "      <td>3</td>\n",
       "      <td>4</td>\n",
       "      <td>1</td>\n",
       "      <td>1</td>\n",
       "      <td>2</td>\n",
       "      <td>3</td>\n",
       "      <td>2</td>\n",
       "      <td>0</td>\n",
       "      <td>1</td>\n",
       "      <td>4</td>\n",
       "      <td>6</td>\n",
       "      <td>14</td>\n",
       "      <td>400975872</td>\n",
       "    </tr>\n",
       "    <tr>\n",
       "      <th>2</th>\n",
       "      <td>OKC</td>\n",
       "      <td>paul-george</td>\n",
       "      <td>4251</td>\n",
       "      <td>SF</td>\n",
       "      <td>yes</td>\n",
       "      <td>yes</td>\n",
       "      <td>39</td>\n",
       "      <td>9</td>\n",
       "      <td>20</td>\n",
       "      <td>3</td>\n",
       "      <td>6</td>\n",
       "      <td>5</td>\n",
       "      <td>5</td>\n",
       "      <td>0</td>\n",
       "      <td>7</td>\n",
       "      <td>7</td>\n",
       "      <td>6</td>\n",
       "      <td>4</td>\n",
       "      <td>0</td>\n",
       "      <td>3</td>\n",
       "      <td>3</td>\n",
       "      <td>5</td>\n",
       "      <td>26</td>\n",
       "      <td>400975872</td>\n",
       "    </tr>\n",
       "    <tr>\n",
       "      <th>3</th>\n",
       "      <td>OKC</td>\n",
       "      <td>steven-adams</td>\n",
       "      <td>2991235</td>\n",
       "      <td>C</td>\n",
       "      <td>yes</td>\n",
       "      <td>yes</td>\n",
       "      <td>37</td>\n",
       "      <td>5</td>\n",
       "      <td>11</td>\n",
       "      <td>0</td>\n",
       "      <td>0</td>\n",
       "      <td>0</td>\n",
       "      <td>2</td>\n",
       "      <td>5</td>\n",
       "      <td>8</td>\n",
       "      <td>13</td>\n",
       "      <td>1</td>\n",
       "      <td>0</td>\n",
       "      <td>0</td>\n",
       "      <td>2</td>\n",
       "      <td>3</td>\n",
       "      <td>10</td>\n",
       "      <td>10</td>\n",
       "      <td>400975872</td>\n",
       "    </tr>\n",
       "    <tr>\n",
       "      <th>4</th>\n",
       "      <td>OKC</td>\n",
       "      <td>russell-westbrook</td>\n",
       "      <td>3468</td>\n",
       "      <td>PG</td>\n",
       "      <td>yes</td>\n",
       "      <td>yes</td>\n",
       "      <td>38</td>\n",
       "      <td>7</td>\n",
       "      <td>19</td>\n",
       "      <td>0</td>\n",
       "      <td>4</td>\n",
       "      <td>5</td>\n",
       "      <td>8</td>\n",
       "      <td>1</td>\n",
       "      <td>10</td>\n",
       "      <td>11</td>\n",
       "      <td>5</td>\n",
       "      <td>3</td>\n",
       "      <td>1</td>\n",
       "      <td>7</td>\n",
       "      <td>5</td>\n",
       "      <td>7</td>\n",
       "      <td>19</td>\n",
       "      <td>400975872</td>\n",
       "    </tr>\n",
       "  </tbody>\n",
       "</table>\n",
       "</div>"
      ],
      "text/plain": [
       "  team_name        player_name player_id position started played min fg_made  \\\n",
       "0       OKC    carmelo-anthony      1975       PF     yes    yes  32       3   \n",
       "1       OKC       corey-brewer      3191       SF     yes    yes  29       5   \n",
       "2       OKC        paul-george      4251       SF     yes    yes  39       9   \n",
       "3       OKC       steven-adams   2991235        C     yes    yes  37       5   \n",
       "4       OKC  russell-westbrook      3468       PG     yes    yes  38       7   \n",
       "\n",
       "  fg_attempted 3pt_made 3pt_attempted ft_made ft_attempted oreb dreb reb ast  \\\n",
       "0            6        3             3       0            0    1    2   3   2   \n",
       "1            8        1             4       3            4    1    1   2   3   \n",
       "2           20        3             6       5            5    0    7   7   6   \n",
       "3           11        0             0       0            2    5    8  13   1   \n",
       "4           19        0             4       5            8    1   10  11   5   \n",
       "\n",
       "  stl blk to pf plusminus pts matchup_id  \n",
       "0   2   1  0  2        12   9  400975872  \n",
       "1   2   0  1  4         6  14  400975872  \n",
       "2   4   0  3  3         5  26  400975872  \n",
       "3   0   0  2  3        10  10  400975872  \n",
       "4   3   1  7  5         7  19  400975872  "
      ]
     },
     "execution_count": 3,
     "metadata": {},
     "output_type": "execute_result"
    }
   ],
   "source": [
    "players_stats_18.head()"
   ]
  },
  {
   "cell_type": "code",
   "execution_count": 4,
   "metadata": {
    "collapsed": false
   },
   "outputs": [],
   "source": [
    "#check that stats are now type string\n",
    "assert_equal(players_stats_18.loc[0,'fg_made'], '3')\n",
    "assert_equal(type(players_stats_18.loc[0,'fg_attempted']), str)\n",
    "assert_equal(type(players_stats_18.loc[0,'matchup_id']), str)"
   ]
  },
  {
   "cell_type": "markdown",
   "metadata": {},
   "source": [
    "We will check that we have players stats information for every game during the 2017-2018 season. To do this, we will consider the game information we previously stored for the 2017-2018 season (written to the CSV file 'all_games_04_on.csv' in the notebook 'Accumulating all games since 2004-2005 season-June11'). We will then compare the number of Matchup ID's we stored there to the number of games that are represented in our players stats file."
   ]
  },
  {
   "cell_type": "code",
   "execution_count": 5,
   "metadata": {
    "collapsed": false
   },
   "outputs": [
    {
     "data": {
      "text/html": [
       "<div>\n",
       "<table border=\"1\" class=\"dataframe\">\n",
       "  <thead>\n",
       "    <tr style=\"text-align: right;\">\n",
       "      <th></th>\n",
       "      <th>team</th>\n",
       "      <th>season_start_year</th>\n",
       "      <th>season_end_year</th>\n",
       "      <th>season_type</th>\n",
       "      <th>game_month</th>\n",
       "      <th>game_day</th>\n",
       "      <th>game_year</th>\n",
       "      <th>game_date</th>\n",
       "      <th>matchup_id</th>\n",
       "    </tr>\n",
       "  </thead>\n",
       "  <tbody>\n",
       "    <tr>\n",
       "      <th>31336</th>\n",
       "      <td>bos</td>\n",
       "      <td>2017</td>\n",
       "      <td>2018</td>\n",
       "      <td>regular</td>\n",
       "      <td>10</td>\n",
       "      <td>17</td>\n",
       "      <td>2017</td>\n",
       "      <td>10/17/2017</td>\n",
       "      <td>400974437</td>\n",
       "    </tr>\n",
       "    <tr>\n",
       "      <th>31337</th>\n",
       "      <td>bos</td>\n",
       "      <td>2017</td>\n",
       "      <td>2018</td>\n",
       "      <td>regular</td>\n",
       "      <td>10</td>\n",
       "      <td>18</td>\n",
       "      <td>2017</td>\n",
       "      <td>10/18/2017</td>\n",
       "      <td>400974703</td>\n",
       "    </tr>\n",
       "    <tr>\n",
       "      <th>31338</th>\n",
       "      <td>bos</td>\n",
       "      <td>2017</td>\n",
       "      <td>2018</td>\n",
       "      <td>regular</td>\n",
       "      <td>10</td>\n",
       "      <td>20</td>\n",
       "      <td>2017</td>\n",
       "      <td>10/20/2017</td>\n",
       "      <td>400974772</td>\n",
       "    </tr>\n",
       "    <tr>\n",
       "      <th>31339</th>\n",
       "      <td>bos</td>\n",
       "      <td>2017</td>\n",
       "      <td>2018</td>\n",
       "      <td>regular</td>\n",
       "      <td>10</td>\n",
       "      <td>24</td>\n",
       "      <td>2017</td>\n",
       "      <td>10/24/2017</td>\n",
       "      <td>400974802</td>\n",
       "    </tr>\n",
       "    <tr>\n",
       "      <th>31340</th>\n",
       "      <td>bos</td>\n",
       "      <td>2017</td>\n",
       "      <td>2018</td>\n",
       "      <td>regular</td>\n",
       "      <td>10</td>\n",
       "      <td>26</td>\n",
       "      <td>2017</td>\n",
       "      <td>10/26/2017</td>\n",
       "      <td>400974818</td>\n",
       "    </tr>\n",
       "  </tbody>\n",
       "</table>\n",
       "</div>"
      ],
      "text/plain": [
       "      team  season_start_year  season_end_year season_type  game_month  \\\n",
       "31336  bos               2017             2018     regular          10   \n",
       "31337  bos               2017             2018     regular          10   \n",
       "31338  bos               2017             2018     regular          10   \n",
       "31339  bos               2017             2018     regular          10   \n",
       "31340  bos               2017             2018     regular          10   \n",
       "\n",
       "       game_day  game_year   game_date  matchup_id  \n",
       "31336        17       2017  10/17/2017   400974437  \n",
       "31337        18       2017  10/18/2017   400974703  \n",
       "31338        20       2017  10/20/2017   400974772  \n",
       "31339        24       2017  10/24/2017   400974802  \n",
       "31340        26       2017  10/26/2017   400974818  "
      ]
     },
     "execution_count": 5,
     "metadata": {},
     "output_type": "execute_result"
    }
   ],
   "source": [
    "#info on every game since 2004-2005 season\n",
    "all_game_info = pd.read_csv('all_games_04_on.csv')\n",
    "\n",
    "#info on every game in 2017-2018 season\n",
    "all_game_info_18 = all_game_info[all_game_info['season_end_year']==2018].loc[:,'team':]\n",
    "\n",
    "all_game_info_18.head()"
   ]
  },
  {
   "cell_type": "code",
   "execution_count": 6,
   "metadata": {
    "collapsed": false
   },
   "outputs": [
    {
     "name": "stdout",
     "output_type": "stream",
     "text": [
      "Number of 2017-2018 games in all games file: 1312\n",
      "Number of 2017-2018 games in players stats file: 1312\n"
     ]
    }
   ],
   "source": [
    "#number of games represented in all games information file\n",
    "print('Number of 2017-2018 games in all games file: ' + str(len(set(all_game_info_18.loc[:,'matchup_id']))))\n",
    "\n",
    "#number of games represented in players stats file\n",
    "print('Number of 2017-2018 games in players stats file: ' + str(len(set(players_stats_18.loc[:,'matchup_id']))))"
   ]
  },
  {
   "cell_type": "markdown",
   "metadata": {},
   "source": [
    "They agree! This means that we were able to successfully pull the box score from every game (regular and post season) during the 2017-2018 season. \n",
    "\n",
    "Before saving save this table, we change the column names of the table so that they are compatible with SQL commands. Specifically, we change `min` to `minutes`, `3pt_made` to `three_pt_made`, and `3pt_attempted` to `three_pt_attempted`."
   ]
  },
  {
   "cell_type": "code",
   "execution_count": 7,
   "metadata": {
    "collapsed": false
   },
   "outputs": [
    {
     "name": "stdout",
     "output_type": "stream",
     "text": [
      "['team_name', 'player_name', 'player_id', 'position', 'started', 'played', 'min', 'fg_made', 'fg_attempted', '3pt_made', '3pt_attempted', 'ft_made', 'ft_attempted', 'oreb', 'dreb', 'reb', 'ast', 'stl', 'blk', 'to', 'pf', 'plusminus', 'pts', 'matchup_id']\n"
     ]
    }
   ],
   "source": [
    "print(players_stats_18.columns.tolist())"
   ]
  },
  {
   "cell_type": "code",
   "execution_count": 8,
   "metadata": {
    "collapsed": false
   },
   "outputs": [
    {
     "name": "stdout",
     "output_type": "stream",
     "text": [
      "['team_name', 'player_name', 'player_id', 'position', 'started', 'played', 'minutes', 'fg_made', 'fg_attempted', 'three_pt_made', 'three_pt_attempted', 'ft_made', 'ft_attempted', 'oreb', 'dreb', 'reb', 'ast', 'stl', 'blk', 'to', 'pf', 'plusminus', 'pts', 'matchup_id']\n",
      "(33100, 24)\n"
     ]
    },
    {
     "data": {
      "text/html": [
       "<div>\n",
       "<table border=\"1\" class=\"dataframe\">\n",
       "  <thead>\n",
       "    <tr style=\"text-align: right;\">\n",
       "      <th></th>\n",
       "      <th>team_name</th>\n",
       "      <th>player_name</th>\n",
       "      <th>player_id</th>\n",
       "      <th>position</th>\n",
       "      <th>started</th>\n",
       "      <th>played</th>\n",
       "      <th>minutes</th>\n",
       "      <th>fg_made</th>\n",
       "      <th>fg_attempted</th>\n",
       "      <th>three_pt_made</th>\n",
       "      <th>three_pt_attempted</th>\n",
       "      <th>ft_made</th>\n",
       "      <th>ft_attempted</th>\n",
       "      <th>oreb</th>\n",
       "      <th>dreb</th>\n",
       "      <th>reb</th>\n",
       "      <th>ast</th>\n",
       "      <th>stl</th>\n",
       "      <th>blk</th>\n",
       "      <th>to</th>\n",
       "      <th>pf</th>\n",
       "      <th>plusminus</th>\n",
       "      <th>pts</th>\n",
       "      <th>matchup_id</th>\n",
       "    </tr>\n",
       "  </thead>\n",
       "  <tbody>\n",
       "    <tr>\n",
       "      <th>0</th>\n",
       "      <td>OKC</td>\n",
       "      <td>carmelo-anthony</td>\n",
       "      <td>1975</td>\n",
       "      <td>PF</td>\n",
       "      <td>yes</td>\n",
       "      <td>yes</td>\n",
       "      <td>32</td>\n",
       "      <td>3</td>\n",
       "      <td>6</td>\n",
       "      <td>3</td>\n",
       "      <td>3</td>\n",
       "      <td>0</td>\n",
       "      <td>0</td>\n",
       "      <td>1</td>\n",
       "      <td>2</td>\n",
       "      <td>3</td>\n",
       "      <td>2</td>\n",
       "      <td>2</td>\n",
       "      <td>1</td>\n",
       "      <td>0</td>\n",
       "      <td>2</td>\n",
       "      <td>12</td>\n",
       "      <td>9</td>\n",
       "      <td>400975872</td>\n",
       "    </tr>\n",
       "    <tr>\n",
       "      <th>1</th>\n",
       "      <td>OKC</td>\n",
       "      <td>corey-brewer</td>\n",
       "      <td>3191</td>\n",
       "      <td>SF</td>\n",
       "      <td>yes</td>\n",
       "      <td>yes</td>\n",
       "      <td>29</td>\n",
       "      <td>5</td>\n",
       "      <td>8</td>\n",
       "      <td>1</td>\n",
       "      <td>4</td>\n",
       "      <td>3</td>\n",
       "      <td>4</td>\n",
       "      <td>1</td>\n",
       "      <td>1</td>\n",
       "      <td>2</td>\n",
       "      <td>3</td>\n",
       "      <td>2</td>\n",
       "      <td>0</td>\n",
       "      <td>1</td>\n",
       "      <td>4</td>\n",
       "      <td>6</td>\n",
       "      <td>14</td>\n",
       "      <td>400975872</td>\n",
       "    </tr>\n",
       "    <tr>\n",
       "      <th>2</th>\n",
       "      <td>OKC</td>\n",
       "      <td>paul-george</td>\n",
       "      <td>4251</td>\n",
       "      <td>SF</td>\n",
       "      <td>yes</td>\n",
       "      <td>yes</td>\n",
       "      <td>39</td>\n",
       "      <td>9</td>\n",
       "      <td>20</td>\n",
       "      <td>3</td>\n",
       "      <td>6</td>\n",
       "      <td>5</td>\n",
       "      <td>5</td>\n",
       "      <td>0</td>\n",
       "      <td>7</td>\n",
       "      <td>7</td>\n",
       "      <td>6</td>\n",
       "      <td>4</td>\n",
       "      <td>0</td>\n",
       "      <td>3</td>\n",
       "      <td>3</td>\n",
       "      <td>5</td>\n",
       "      <td>26</td>\n",
       "      <td>400975872</td>\n",
       "    </tr>\n",
       "    <tr>\n",
       "      <th>3</th>\n",
       "      <td>OKC</td>\n",
       "      <td>steven-adams</td>\n",
       "      <td>2991235</td>\n",
       "      <td>C</td>\n",
       "      <td>yes</td>\n",
       "      <td>yes</td>\n",
       "      <td>37</td>\n",
       "      <td>5</td>\n",
       "      <td>11</td>\n",
       "      <td>0</td>\n",
       "      <td>0</td>\n",
       "      <td>0</td>\n",
       "      <td>2</td>\n",
       "      <td>5</td>\n",
       "      <td>8</td>\n",
       "      <td>13</td>\n",
       "      <td>1</td>\n",
       "      <td>0</td>\n",
       "      <td>0</td>\n",
       "      <td>2</td>\n",
       "      <td>3</td>\n",
       "      <td>10</td>\n",
       "      <td>10</td>\n",
       "      <td>400975872</td>\n",
       "    </tr>\n",
       "    <tr>\n",
       "      <th>4</th>\n",
       "      <td>OKC</td>\n",
       "      <td>russell-westbrook</td>\n",
       "      <td>3468</td>\n",
       "      <td>PG</td>\n",
       "      <td>yes</td>\n",
       "      <td>yes</td>\n",
       "      <td>38</td>\n",
       "      <td>7</td>\n",
       "      <td>19</td>\n",
       "      <td>0</td>\n",
       "      <td>4</td>\n",
       "      <td>5</td>\n",
       "      <td>8</td>\n",
       "      <td>1</td>\n",
       "      <td>10</td>\n",
       "      <td>11</td>\n",
       "      <td>5</td>\n",
       "      <td>3</td>\n",
       "      <td>1</td>\n",
       "      <td>7</td>\n",
       "      <td>5</td>\n",
       "      <td>7</td>\n",
       "      <td>19</td>\n",
       "      <td>400975872</td>\n",
       "    </tr>\n",
       "  </tbody>\n",
       "</table>\n",
       "</div>"
      ],
      "text/plain": [
       "  team_name        player_name player_id position started played minutes  \\\n",
       "0       OKC    carmelo-anthony      1975       PF     yes    yes      32   \n",
       "1       OKC       corey-brewer      3191       SF     yes    yes      29   \n",
       "2       OKC        paul-george      4251       SF     yes    yes      39   \n",
       "3       OKC       steven-adams   2991235        C     yes    yes      37   \n",
       "4       OKC  russell-westbrook      3468       PG     yes    yes      38   \n",
       "\n",
       "  fg_made fg_attempted three_pt_made three_pt_attempted ft_made ft_attempted  \\\n",
       "0       3            6             3                  3       0            0   \n",
       "1       5            8             1                  4       3            4   \n",
       "2       9           20             3                  6       5            5   \n",
       "3       5           11             0                  0       0            2   \n",
       "4       7           19             0                  4       5            8   \n",
       "\n",
       "  oreb dreb reb ast stl blk to pf plusminus pts matchup_id  \n",
       "0    1    2   3   2   2   1  0  2        12   9  400975872  \n",
       "1    1    1   2   3   2   0  1  4         6  14  400975872  \n",
       "2    0    7   7   6   4   0  3  3         5  26  400975872  \n",
       "3    5    8  13   1   0   0  2  3        10  10  400975872  \n",
       "4    1   10  11   5   3   1  7  5         7  19  400975872  "
      ]
     },
     "execution_count": 8,
     "metadata": {},
     "output_type": "execute_result"
    }
   ],
   "source": [
    "column_names = players_stats_18.columns.tolist()\n",
    "\n",
    "column_names[column_names.index('min')] = 'minutes'\n",
    "column_names[column_names.index('3pt_made')] = 'three_pt_made'\n",
    "column_names[column_names.index('3pt_attempted')] = 'three_pt_attempted'\n",
    "\n",
    "players_stats_18.columns = column_names\n",
    "\n",
    "print(players_stats_18.columns.tolist())\n",
    "\n",
    "print(players_stats_18.shape)\n",
    "\n",
    "players_stats_18.head()"
   ]
  },
  {
   "cell_type": "code",
   "execution_count": 9,
   "metadata": {
    "collapsed": true
   },
   "outputs": [],
   "source": [
    "players_stats_18.to_csv('all_players_stats_2018_string.csv')"
   ]
  },
  {
   "cell_type": "markdown",
   "metadata": {},
   "source": [
    "## Using SQLite to clean 2017-2018 data\n",
    "\n",
    "We want to view which player records have '--' for stats and then remove these records. Rather than persisting to use pandas DataFrames, we will switch to using SQLite databases. Not only will this allow to show the use of SQL commands, the types of queries we will be interested in will easier to write using SQL. \n",
    "\n",
    "For this, I will be using what I learned while taking a yearlong Data Science course taught by Professor Robert Brunner at the University of Illinois. His website can be found at https://astro.illinois.edu/directory/profile/bigdog."
   ]
  },
  {
   "cell_type": "code",
   "execution_count": 10,
   "metadata": {
    "collapsed": false
   },
   "outputs": [
    {
     "name": "stdout",
     "output_type": "stream",
     "text": [
      "Database will persist at /Users/derekjung/database\n",
      "\n"
     ]
    }
   ],
   "source": [
    "# First find our HOME directory\n",
    "home_dir = !echo $HOME\n",
    "\n",
    "#Define data directory\n",
    "database_dir = home_dir[0] + '/database'\n",
    "\n",
    "print(f'Database will persist at {database_dir}\\n')"
   ]
  },
  {
   "cell_type": "code",
   "execution_count": 11,
   "metadata": {
    "collapsed": false
   },
   "outputs": [
    {
     "name": "stdout",
     "output_type": "stream",
     "text": [
      "Directory already exists.\n"
     ]
    }
   ],
   "source": [
    "%%bash -s \"$database_dir\"\n",
    "\n",
    "#passed Python variable, later accessed with $1\n",
    "\n",
    "#check if directory exists\n",
    "if [ -d \"$1\" ] ; then\n",
    "\n",
    "    echo \"Directory already exists.\"\n",
    "\n",
    "else\n",
    "    #otherwise grapb file from Internet and store locally in data directory\n",
    "    \n",
    "    mkdir $1\n",
    "    echo \"creating database directory\"\n",
    "\n",
    "fi"
   ]
  },
  {
   "cell_type": "code",
   "execution_count": 12,
   "metadata": {
    "collapsed": false
   },
   "outputs": [],
   "source": [
    "con = sqlite3.connect(\"stats_617.db\")\n",
    "\n",
    "cur = con.cursor()"
   ]
  },
  {
   "cell_type": "code",
   "execution_count": 13,
   "metadata": {
    "collapsed": false
   },
   "outputs": [],
   "source": [
    "#DataFrame with all entries type string\n",
    "\n",
    "players_stats_18.to_sql(name='all_players_stats_2018_string', con=con, if_exists='replace', \\\n",
    "                        index=False, chunksize=1000)"
   ]
  },
  {
   "cell_type": "code",
   "execution_count": 14,
   "metadata": {
    "collapsed": false
   },
   "outputs": [
    {
     "name": "stdout",
     "output_type": "stream",
     "text": [
      "('OKC', 'carmelo-anthony', '1975', 'PF', 'yes', 'yes', '32', '3', '6', '3', '3', '0', '0', '1', '2', '3', '2', '2', '1', '0', '2', '12', '9', '400975872')\n",
      "('OKC', 'corey-brewer', '3191', 'SF', 'yes', 'yes', '29', '5', '8', '1', '4', '3', '4', '1', '1', '2', '3', '2', '0', '1', '4', '6', '14', '400975872')\n",
      "('OKC', 'paul-george', '4251', 'SF', 'yes', 'yes', '39', '9', '20', '3', '6', '5', '5', '0', '7', '7', '6', '4', '0', '3', '3', '5', '26', '400975872')\n"
     ]
    }
   ],
   "source": [
    "#check that we can access 2018 player stats\n",
    "sql_access = \"\\\n",
    "SELECT * \\\n",
    "FROM all_players_stats_2018_string \\\n",
    "LIMIT 3 \\\n",
    "\"\n",
    "\n",
    "cur.execute(sql_access)\n",
    "\n",
    "for row in cur:\n",
    "    print(row)"
   ]
  },
  {
   "cell_type": "markdown",
   "metadata": {
    "collapsed": false
   },
   "source": [
    "We now find the four player records from the 2017-2018 season that led to errors due to the presence of \"--\". As mentioned earlier, these rows come from the games with Matchup ID's 400975115, 400975606, and 400975750."
   ]
  },
  {
   "cell_type": "code",
   "execution_count": 15,
   "metadata": {
    "collapsed": false
   },
   "outputs": [
    {
     "name": "stdout",
     "output_type": "stream",
     "text": [
      "('PHX', 'derrick-jones-jr', '3936099', 'SG', 'no', 'yes', '--', None, None, None, None, None, None, '--', '--', '--', '--', '--', '--', '--', '--', '--', '--', '400975115')\n",
      "('SAC', 'dimitrios-agravanis', '3899663', 'PF', 'no', 'yes', '--', None, None, None, None, None, None, '--', '--', '--', '--', '--', '--', '--', '--', '--', '--', '400975606')\n",
      "('HOU', 'troy-williams', '3078286', 'SF', 'no', 'yes', '--', None, None, None, None, None, None, '--', '--', '--', '--', '--', '--', '--', '--', '--', '--', '400975606')\n",
      "('POR', 'brandon-rush', '3457', 'SG', 'no', 'yes', '--', None, None, None, None, None, None, '--', '--', '--', '--', '--', '--', '--', '--', '--', '--', '400975750')\n"
     ]
    }
   ],
   "source": [
    "#find rows with errors\n",
    "sql_errors_2018 = \"\\\n",
    "SELECT * \\\n",
    "FROM all_players_stats_2018_string \\\n",
    "WHERE minutes = '--'\\\n",
    "\"\n",
    "\n",
    "cur.execute(sql_errors_2018)\n",
    "\n",
    "for row in cur:\n",
    "    print(row)"
   ]
  },
  {
   "cell_type": "markdown",
   "metadata": {},
   "source": [
    "We choose to delete these four rows as they offer no new information about player performance. To check that we have actually deleted four rows, we will show the number of rows before and after the `DELETE` statement."
   ]
  },
  {
   "cell_type": "code",
   "execution_count": 16,
   "metadata": {
    "collapsed": false
   },
   "outputs": [
    {
     "name": "stdout",
     "output_type": "stream",
     "text": [
      "Table length before deletion: 33100\n",
      "Deleting... Deleting...\n",
      "Table length after deletion: 33096\n"
     ]
    }
   ],
   "source": [
    "#find table length before deleting\n",
    "sql_length_before_delete_2018 = \"SELECT COUNT(*) FROM all_players_stats_2018_string\"\n",
    "\n",
    "cur.execute(sql_length_before_delete_2018)\n",
    "\n",
    "print(\"Table length before deletion: \", end='')\n",
    "\n",
    "for row in cur.fetchone():\n",
    "    print(row)\n",
    "\n",
    "#delete rows with '--'\n",
    "sql_delete_2018 = \"DELETE FROM all_players_stats_2018_string WHERE minutes = '--'\"\n",
    "\n",
    "cur.execute(sql_delete_2018)\n",
    "\n",
    "print('Deleting... Deleting...')\n",
    "\n",
    "\n",
    "#find table length after deleting\n",
    "sql_length_after_delete_2018 = \"SELECT COUNT(*) FROM all_players_stats_2018_string\"\n",
    "\n",
    "cur.execute(sql_length_after_delete_2018)\n",
    "\n",
    "print(\"Table length after deletion: \", end='')\n",
    "\n",
    "for row in cur.fetchone():\n",
    "    print(row)"
   ]
  },
  {
   "cell_type": "markdown",
   "metadata": {},
   "source": [
    "We now save the table to a DataFrame and convert each stat column to type `int`."
   ]
  },
  {
   "cell_type": "code",
   "execution_count": 17,
   "metadata": {
    "collapsed": false
   },
   "outputs": [
    {
     "name": "stdout",
     "output_type": "stream",
     "text": [
      "['minutes', 'fg_made', 'fg_attempted', 'three_pt_made', 'three_pt_attempted', 'ft_made', 'ft_attempted', 'oreb', 'dreb', 'reb', 'ast', 'stl', 'blk', 'to', 'pf', 'plusminus', 'pts']\n",
      "(33096, 24)\n"
     ]
    },
    {
     "data": {
      "text/html": [
       "<div>\n",
       "<table border=\"1\" class=\"dataframe\">\n",
       "  <thead>\n",
       "    <tr style=\"text-align: right;\">\n",
       "      <th></th>\n",
       "      <th>team_name</th>\n",
       "      <th>player_name</th>\n",
       "      <th>player_id</th>\n",
       "      <th>position</th>\n",
       "      <th>started</th>\n",
       "      <th>played</th>\n",
       "      <th>minutes</th>\n",
       "      <th>fg_made</th>\n",
       "      <th>fg_attempted</th>\n",
       "      <th>three_pt_made</th>\n",
       "      <th>three_pt_attempted</th>\n",
       "      <th>ft_made</th>\n",
       "      <th>ft_attempted</th>\n",
       "      <th>oreb</th>\n",
       "      <th>dreb</th>\n",
       "      <th>reb</th>\n",
       "      <th>ast</th>\n",
       "      <th>stl</th>\n",
       "      <th>blk</th>\n",
       "      <th>to</th>\n",
       "      <th>pf</th>\n",
       "      <th>plusminus</th>\n",
       "      <th>pts</th>\n",
       "      <th>matchup_id</th>\n",
       "    </tr>\n",
       "  </thead>\n",
       "  <tbody>\n",
       "    <tr>\n",
       "      <th>0</th>\n",
       "      <td>OKC</td>\n",
       "      <td>carmelo-anthony</td>\n",
       "      <td>1975</td>\n",
       "      <td>PF</td>\n",
       "      <td>yes</td>\n",
       "      <td>yes</td>\n",
       "      <td>32</td>\n",
       "      <td>3</td>\n",
       "      <td>6</td>\n",
       "      <td>3</td>\n",
       "      <td>3</td>\n",
       "      <td>0</td>\n",
       "      <td>0</td>\n",
       "      <td>1</td>\n",
       "      <td>2</td>\n",
       "      <td>3</td>\n",
       "      <td>2</td>\n",
       "      <td>2</td>\n",
       "      <td>1</td>\n",
       "      <td>0</td>\n",
       "      <td>2</td>\n",
       "      <td>12</td>\n",
       "      <td>9</td>\n",
       "      <td>400975872</td>\n",
       "    </tr>\n",
       "    <tr>\n",
       "      <th>1</th>\n",
       "      <td>OKC</td>\n",
       "      <td>corey-brewer</td>\n",
       "      <td>3191</td>\n",
       "      <td>SF</td>\n",
       "      <td>yes</td>\n",
       "      <td>yes</td>\n",
       "      <td>29</td>\n",
       "      <td>5</td>\n",
       "      <td>8</td>\n",
       "      <td>1</td>\n",
       "      <td>4</td>\n",
       "      <td>3</td>\n",
       "      <td>4</td>\n",
       "      <td>1</td>\n",
       "      <td>1</td>\n",
       "      <td>2</td>\n",
       "      <td>3</td>\n",
       "      <td>2</td>\n",
       "      <td>0</td>\n",
       "      <td>1</td>\n",
       "      <td>4</td>\n",
       "      <td>6</td>\n",
       "      <td>14</td>\n",
       "      <td>400975872</td>\n",
       "    </tr>\n",
       "    <tr>\n",
       "      <th>2</th>\n",
       "      <td>OKC</td>\n",
       "      <td>paul-george</td>\n",
       "      <td>4251</td>\n",
       "      <td>SF</td>\n",
       "      <td>yes</td>\n",
       "      <td>yes</td>\n",
       "      <td>39</td>\n",
       "      <td>9</td>\n",
       "      <td>20</td>\n",
       "      <td>3</td>\n",
       "      <td>6</td>\n",
       "      <td>5</td>\n",
       "      <td>5</td>\n",
       "      <td>0</td>\n",
       "      <td>7</td>\n",
       "      <td>7</td>\n",
       "      <td>6</td>\n",
       "      <td>4</td>\n",
       "      <td>0</td>\n",
       "      <td>3</td>\n",
       "      <td>3</td>\n",
       "      <td>5</td>\n",
       "      <td>26</td>\n",
       "      <td>400975872</td>\n",
       "    </tr>\n",
       "    <tr>\n",
       "      <th>3</th>\n",
       "      <td>OKC</td>\n",
       "      <td>steven-adams</td>\n",
       "      <td>2991235</td>\n",
       "      <td>C</td>\n",
       "      <td>yes</td>\n",
       "      <td>yes</td>\n",
       "      <td>37</td>\n",
       "      <td>5</td>\n",
       "      <td>11</td>\n",
       "      <td>0</td>\n",
       "      <td>0</td>\n",
       "      <td>0</td>\n",
       "      <td>2</td>\n",
       "      <td>5</td>\n",
       "      <td>8</td>\n",
       "      <td>13</td>\n",
       "      <td>1</td>\n",
       "      <td>0</td>\n",
       "      <td>0</td>\n",
       "      <td>2</td>\n",
       "      <td>3</td>\n",
       "      <td>10</td>\n",
       "      <td>10</td>\n",
       "      <td>400975872</td>\n",
       "    </tr>\n",
       "    <tr>\n",
       "      <th>4</th>\n",
       "      <td>OKC</td>\n",
       "      <td>russell-westbrook</td>\n",
       "      <td>3468</td>\n",
       "      <td>PG</td>\n",
       "      <td>yes</td>\n",
       "      <td>yes</td>\n",
       "      <td>38</td>\n",
       "      <td>7</td>\n",
       "      <td>19</td>\n",
       "      <td>0</td>\n",
       "      <td>4</td>\n",
       "      <td>5</td>\n",
       "      <td>8</td>\n",
       "      <td>1</td>\n",
       "      <td>10</td>\n",
       "      <td>11</td>\n",
       "      <td>5</td>\n",
       "      <td>3</td>\n",
       "      <td>1</td>\n",
       "      <td>7</td>\n",
       "      <td>5</td>\n",
       "      <td>7</td>\n",
       "      <td>19</td>\n",
       "      <td>400975872</td>\n",
       "    </tr>\n",
       "  </tbody>\n",
       "</table>\n",
       "</div>"
      ],
      "text/plain": [
       "  team_name        player_name player_id position started played  minutes  \\\n",
       "0       OKC    carmelo-anthony      1975       PF     yes    yes       32   \n",
       "1       OKC       corey-brewer      3191       SF     yes    yes       29   \n",
       "2       OKC        paul-george      4251       SF     yes    yes       39   \n",
       "3       OKC       steven-adams   2991235        C     yes    yes       37   \n",
       "4       OKC  russell-westbrook      3468       PG     yes    yes       38   \n",
       "\n",
       "   fg_made  fg_attempted  three_pt_made  three_pt_attempted  ft_made  \\\n",
       "0        3             6              3                   3        0   \n",
       "1        5             8              1                   4        3   \n",
       "2        9            20              3                   6        5   \n",
       "3        5            11              0                   0        0   \n",
       "4        7            19              0                   4        5   \n",
       "\n",
       "   ft_attempted  oreb  dreb  reb  ast  stl  blk  to  pf  plusminus  pts  \\\n",
       "0             0     1     2    3    2    2    1   0   2         12    9   \n",
       "1             4     1     1    2    3    2    0   1   4          6   14   \n",
       "2             5     0     7    7    6    4    0   3   3          5   26   \n",
       "3             2     5     8   13    1    0    0   2   3         10   10   \n",
       "4             8     1    10   11    5    3    1   7   5          7   19   \n",
       "\n",
       "  matchup_id  \n",
       "0  400975872  \n",
       "1  400975872  \n",
       "2  400975872  \n",
       "3  400975872  \n",
       "4  400975872  "
      ]
     },
     "execution_count": 17,
     "metadata": {},
     "output_type": "execute_result"
    }
   ],
   "source": [
    "players_stats_2018_cleaned = pd.read_sql(\"SELECT * FROM all_players_stats_2018_string;\", con)\n",
    "\n",
    "minutes_index = 6\n",
    "\n",
    "#columns to convert to type int\n",
    "#choose not to convert Matchup ID column (otherwise column would be converted to type int64)\n",
    "columns_to_int = players_stats_2018_cleaned.columns.tolist()[6:-1] \n",
    "\n",
    "print(columns_to_int)\n",
    "\n",
    "for column in columns_to_int: \n",
    "    players_stats_2018_cleaned.loc[:,column] = players_stats_2018_cleaned.loc[:,column].apply(lambda x: int(x))\n",
    "\n",
    "\n",
    "print(players_stats_2018_cleaned.shape)\n",
    "players_stats_2018_cleaned.head()"
   ]
  },
  {
   "cell_type": "code",
   "execution_count": 18,
   "metadata": {
    "collapsed": false
   },
   "outputs": [
    {
     "name": "stdout",
     "output_type": "stream",
     "text": [
      "minutes type: <class 'numpy.int64'>\n",
      "fg_made type: <class 'numpy.int64'>\n",
      "fg_attempted type: <class 'numpy.int64'>\n",
      "three_pt_made type: <class 'numpy.int64'>\n",
      "three_pt_attempted type: <class 'numpy.int64'>\n",
      "ft_made type: <class 'numpy.int64'>\n",
      "ft_attempted type: <class 'numpy.int64'>\n",
      "oreb type: <class 'numpy.int64'>\n",
      "dreb type: <class 'numpy.int64'>\n",
      "reb type: <class 'numpy.int64'>\n",
      "ast type: <class 'numpy.int64'>\n",
      "stl type: <class 'numpy.int64'>\n",
      "blk type: <class 'numpy.int64'>\n",
      "to type: <class 'numpy.int64'>\n",
      "pf type: <class 'numpy.int64'>\n",
      "plusminus type: <class 'numpy.int64'>\n",
      "pts type: <class 'numpy.int64'>\n"
     ]
    }
   ],
   "source": [
    "#curiously columns are being converted to type numpy.int64\n",
    "\n",
    "for column in columns_to_int:\n",
    "    print(column + ' type: ' + str(type(players_stats_2018_cleaned.loc[0,column])))"
   ]
  },
  {
   "cell_type": "code",
   "execution_count": 19,
   "metadata": {
    "collapsed": true
   },
   "outputs": [],
   "source": [
    "#save cleaned 2017-2018 players stats to CSV file\n",
    "\n",
    "players_stats_2018_cleaned.to_csv('players_stats_2018_cleaned.csv')"
   ]
  },
  {
   "cell_type": "markdown",
   "metadata": {},
   "source": [
    "## Cleaning 2013-2014 to 2016-2017 player stats\n",
    "\n",
    "We will now move on to cleaning the next four seasons: 2013-2014, 2014-2015, 2015-2016, and 2016-2017. By looking at the error log saved in the text file 'player_stats_errors_2017_2014', it appears that the same type of error occurs for these season as in the first season. Specifically, some player stats for games are erroneously filled with '--' or '-----'. "
   ]
  },
  {
   "cell_type": "code",
   "execution_count": 20,
   "metadata": {
    "collapsed": false
   },
   "outputs": [
    {
     "name": "stdout",
     "output_type": "stream",
     "text": [
      "['Start', 'of', '2017', 'season.']\n",
      "['400900168', 'min']\n",
      "['400900168', 'fg_made']\n",
      "['400900168', 'fg_attempted']\n",
      "['400900168', '3pt_made']\n",
      "['400900168', '3pt_attempted']\n",
      "['400900168', 'ft_made']\n",
      "['400900168', 'ft_attempted']\n",
      "['400900168', 'oreb']\n",
      "['400900168', 'dreb']\n",
      "['400900168', 'reb']\n",
      "['400900168', 'ast']\n",
      "['400900168', 'stl']\n",
      "['400900168', 'blk']\n",
      "['400900168', 'to']\n",
      "['400900168', 'pf']\n",
      "['400900168', 'plusminus']\n",
      "['400900168', 'pts']\n",
      "['400900276', 'min']\n",
      "['400900276', 'fg_made']\n",
      "['400900276', 'fg_attempted']\n",
      "['400900276', '3pt_made']\n",
      "['400900276', '3pt_attempted']\n",
      "['400900276', 'ft_made']\n",
      "['400900276', 'ft_attempted']\n",
      "['400900276', 'oreb']\n",
      "['400900276', 'dreb']\n",
      "['400900276', 'reb']\n",
      "['400900276', 'ast']\n",
      "['400900276', 'stl']\n",
      "['400900276', 'blk']\n"
     ]
    }
   ],
   "source": [
    "#print the first 30 lines of the error file\n",
    "with open('player_stats_errors_2017_2014.txt', 'r') as fout:\n",
    "    counter = 0\n",
    "    for line in fout:\n",
    "        print(line.split())\n",
    "        counter += 1\n",
    "        if counter > 30:\n",
    "            break"
   ]
  },
  {
   "cell_type": "markdown",
   "metadata": {},
   "source": [
    "We see that the error messages are exactly the lists of length 2 when split by spaces. We store all of the Matchup ID's in a list."
   ]
  },
  {
   "cell_type": "code",
   "execution_count": 21,
   "metadata": {
    "collapsed": true
   },
   "outputs": [],
   "source": [
    "with open('player_stats_errors_2017_2014.txt', 'r') as fout:\n",
    "    ids_with_errors_2017_2014 = []\n",
    "    for line in fout:\n",
    "        if len(line.split()) == 2:\n",
    "            ids_with_errors_2017_2014.append(line.split()[0])"
   ]
  },
  {
   "cell_type": "markdown",
   "metadata": {},
   "source": [
    "We make the claim that for a game if one column has an issue, then all columns have the issue. To check this, we will show that each erroneous matchup id occurs 17 times (the total number of stats). Note that the maximum number of times each matchup id could occur is 17."
   ]
  },
  {
   "cell_type": "code",
   "execution_count": 22,
   "metadata": {
    "collapsed": false
   },
   "outputs": [],
   "source": [
    "ids_with_errors_2017_2014_set = set(ids_with_errors_2017_2014)\n",
    "\n",
    "for matchup_id in ids_with_errors_2017_2014_set:\n",
    "    assert_equal(ids_with_errors_2017_2014.count(matchup_id), 17)"
   ]
  },
  {
   "cell_type": "markdown",
   "metadata": {},
   "source": [
    "We will now write a function that returns the cleaned players stats table for a given year."
   ]
  },
  {
   "cell_type": "code",
   "execution_count": 23,
   "metadata": {
    "collapsed": true
   },
   "outputs": [],
   "source": [
    "def clean_dash_rows(year, conn, curs):\n",
    "    '''\n",
    "    Cleans a DataFrame by removing rows filled with dashes removed.\n",
    "    \n",
    "    Input:\n",
    "    year: int between 2005 and 2018\n",
    "    conn: connection\n",
    "    curs: cursor\n",
    "    \n",
    "    Output:\n",
    "    DataFrame\n",
    "    '''\n",
    "    \n",
    "    #import players stats from year\n",
    "    data_path = 'all_players_stats_' + str(year) + '.csv'\n",
    "    players_stats_df = pd.read_csv(data_path, dtype=str).loc[:,'team_name':]\n",
    "    \n",
    "    players_stats_df_copy = players_stats_df.copy()\n",
    "    \n",
    "    #change column names to be compatible with SQL\n",
    "    column_names = players_stats_df_copy.columns.tolist()\n",
    "\n",
    "    column_names[column_names.index('min')] = 'minutes'\n",
    "    column_names[column_names.index('3pt_made')] = 'three_pt_made'\n",
    "    column_names[column_names.index('3pt_attempted')] = 'three_pt_attempted'\n",
    "\n",
    "    players_stats_df_copy.columns = column_names\n",
    "    \n",
    "    #convert players stats DataFrame to SQL table\n",
    "    players_stats_df_copy.to_sql(name='players_stats_df_string', con=conn, if_exists='replace', \\\n",
    "                        index=False, chunksize=1000)\n",
    "    \n",
    "    #delete rows with '--'\n",
    "    sql_delete = \"DELETE FROM players_stats_df_string WHERE minutes = '--'\"\n",
    "\n",
    "    curs.execute(sql_delete)\n",
    "    \n",
    "    #convert shorter table to DataFrame\n",
    "    players_stats_df_cleaned = pd.read_sql(\"SELECT * FROM players_stats_df_string;\", conn)\n",
    "    \n",
    "    \n",
    "    #convert columns to type numpy int64\n",
    "    \n",
    "    minutes_index = 6\n",
    "\n",
    "    #columns to convert to type int\n",
    "    #choose not to convert Matchup ID column (otherwise column would be converted to type int64)\n",
    "    columns_to_int = players_stats_df_cleaned.columns.tolist()[6:-1] \n",
    "\n",
    "    for column in columns_to_int: \n",
    "        players_stats_df_cleaned.loc[:,column] = players_stats_df_cleaned.loc[:,column].apply(lambda x: int(x))\n",
    "\n",
    "    return players_stats_df_cleaned"
   ]
  },
  {
   "cell_type": "code",
   "execution_count": 24,
   "metadata": {
    "collapsed": false
   },
   "outputs": [],
   "source": [
    "#import players stats from year\n",
    "data_path = 'all_players_stats_' + str(2018) + '.csv'\n",
    "players_stats_df = pd.read_csv(data_path, dtype=str).loc[:,'team_name':]\n",
    "\n",
    "#check that function works for 2017-2018 stats\n",
    "assert_frame_equal(clean_dash_rows(2018,con,cur), players_stats_2018_cleaned)"
   ]
  },
  {
   "cell_type": "markdown",
   "metadata": {},
   "source": [
    "It works! We now write these DataFrames to files, from the 2013-2014 season to the 2016-2017 season."
   ]
  },
  {
   "cell_type": "code",
   "execution_count": 25,
   "metadata": {
    "collapsed": false
   },
   "outputs": [],
   "source": [
    "base_cleaned_df_to_csv = 'players_stats_{0}_cleaned.csv'\n",
    "\n",
    "#initial problem with CSV files stored in cloud instead of on computer\n",
    "for year in range(2014,2018):\n",
    "    clean_dash_rows(year,con,cur).to_csv(base_cleaned_df_to_csv.format(year))"
   ]
  },
  {
   "cell_type": "markdown",
   "metadata": {
    "collapsed": true
   },
   "source": [
    "## Cleaning 2012-2013 player data\n",
    "\n",
    "For the 2012-2013 season, there were problems with the 4 games of Matchup ID's 400277756, 400277874, 400278328, and 400278344. Three of the errors are By looking at their boxscores at http://www.espn.com/nba/boxscore?gameId=400277756, http://www.espn.com/nba/boxscore?gameId=400277874, http://www.espn.com/nba/boxscore?gameId=400278328, http://www.espn.com/nba/boxscore?gameId=400278344, all except one of the box scores suffer from the same problem: one player's stats has dashes in every spot. The exception is a November match between the Raptors and 76ers, where a player's name is mistakenly written as `null` and no actual player is attached to it. After seeing how many games total there are during the season, we will simply choose to ignore the stats from this game."
   ]
  },
  {
   "cell_type": "code",
   "execution_count": 26,
   "metadata": {
    "collapsed": false
   },
   "outputs": [
    {
     "name": "stdout",
     "output_type": "stream",
     "text": [
      "Number of games during 2012-2013 season: 1312\n",
      "Percentage of one game of whole season: 0.07621951219512195%\n"
     ]
    }
   ],
   "source": [
    "#contains all game info from games during 2012-2013 season\n",
    "all_game_info_2013 = all_game_info[all_game_info['season_end_year']==2013]\n",
    "\n",
    "print('Number of games during 2012-2013 season: ' + \\\n",
    "     str(len(set(all_game_info_2013.loc[:,'matchup_id']))))\n",
    "\n",
    "print('Percentage of one game of whole season: ' \\\n",
    "      + str(100*1/len(set(all_game_info_2013.loc[:,'matchup_id']))) + '%')"
   ]
  },
  {
   "cell_type": "code",
   "execution_count": 27,
   "metadata": {
    "collapsed": true
   },
   "outputs": [],
   "source": [
    "#remove rows from DataFrame that are actual players followed by dashes\n",
    "clean_dash_rows(2013,con,cur).to_csv(base_cleaned_df_to_csv.format(2013))"
   ]
  },
  {
   "cell_type": "markdown",
   "metadata": {},
   "source": [
    "## Cleaning 2004-2005 to 2011-2012 player data\n",
    "\n",
    "We will now focus on cleaning the rest of the player data. Our eventual goal will be to simply ignore games that lead to critical errors, i.e., games for which there other errors than just actual players with dashes for stats. Last notebook, we saved the log of errors in a text file called 'player_stats_errors_2012_2004'.\n",
    "\n",
    "We will keep track of the errors with two dictionaries: `dash_errors` and `other_errors`. The keys will be the years from 2005 to 2012. The values of `dash_errors` will be all of the matchup ID's in that year with the issue that an actual player has _some_ number of stats that cannot be converted into `int`'s, e.g., if stats are listed as dashes. The values of `other_errors` will be the matchup ID's in that year with some other type of error in extraction.\n",
    "\n",
    "We begin by dividing up our error log by year."
   ]
  },
  {
   "cell_type": "code",
   "execution_count": 28,
   "metadata": {
    "collapsed": false
   },
   "outputs": [],
   "source": [
    "#make list of errors from 2004-2012\n",
    "with open('player_stats_errors_2012_2004.txt','r') as fout:\n",
    "    all_years_errors = [error.strip() for error in fout]"
   ]
  },
  {
   "cell_type": "code",
   "execution_count": 29,
   "metadata": {
    "collapsed": false
   },
   "outputs": [
    {
     "name": "stdout",
     "output_type": "stream",
     "text": [
      "['Start of 2012 season.', '320211030 min', '320211030 fg_made', '320211030 fg_attempted', '320211030 3pt_made']\n"
     ]
    }
   ],
   "source": [
    "print(all_years_errors[:5])"
   ]
  },
  {
   "cell_type": "code",
   "execution_count": 30,
   "metadata": {
    "collapsed": false
   },
   "outputs": [
    {
     "name": "stdout",
     "output_type": "stream",
     "text": [
      "['320217018 plusminus', '320217018 pts', '2012 took 1392.1917550563812 seconds.', 'Start of 2011 season.', '310223003 min']\n"
     ]
    }
   ],
   "source": [
    "all_years_errors.index('Start of 2011 season.') #410\n",
    "print(all_years_errors[407:412])"
   ]
  },
  {
   "cell_type": "code",
   "execution_count": 31,
   "metadata": {
    "collapsed": false
   },
   "outputs": [
    {
     "name": "stdout",
     "output_type": "stream",
     "text": [
      "496\n",
      "Problem with 310428001\n"
     ]
    }
   ],
   "source": [
    "#show other error message\n",
    "for idx, error in enumerate(all_years_errors):\n",
    "    if 'Problem' in error:\n",
    "        print(idx)\n",
    "        print(error)\n",
    "        break"
   ]
  },
  {
   "cell_type": "markdown",
   "metadata": {},
   "source": [
    "There is a pattern for the error log of each season. A season will begin with 'Start of {year} season.' season spanned over {year-1} and {year}. It will then list errors of the form '{Matchup ID} {name of stat}' or 'Problem with {Matchup ID}'. It will conclude with a message saying how long that season took. \n",
    "\n",
    "We break up our long error log by year, starting at 2012 and ending at 2005."
   ]
  },
  {
   "cell_type": "code",
   "execution_count": 32,
   "metadata": {
    "collapsed": false
   },
   "outputs": [],
   "source": [
    "#key: year (from 2012 to 2005)\n",
    "#value: index of item in all_years_errors that is 'Start of {year} season.'\n",
    "start_season_dict = {}\n",
    "\n",
    "year = 2012\n",
    "\n",
    "for idx, error in enumerate(all_years_errors):\n",
    "    if 'Start' in error: #beginning of season\n",
    "        start_season_dict[year] = idx\n",
    "        year -= 1\n",
    "    if year == 2004: #last year included in errors\n",
    "        break"
   ]
  },
  {
   "cell_type": "code",
   "execution_count": 33,
   "metadata": {
    "collapsed": false
   },
   "outputs": [],
   "source": [
    "#check that start_season_dict has years from 2012 to 2005 as keys\n",
    "assert_equal(sorted(list(start_season_dict.keys())),list(range(2005,2013)))\n",
    "\n",
    "#check that indices correctly align with starts of season for each year\n",
    "for year in range(2012,2004,-1):\n",
    "    assert_equal(all_years_errors[start_season_dict[year]],'Start of {0} season.'.format(year))"
   ]
  },
  {
   "cell_type": "code",
   "execution_count": 34,
   "metadata": {
    "collapsed": false
   },
   "outputs": [],
   "source": [
    "#break up list of errors by year\n",
    "errors_by_years = {}\n",
    "\n",
    "for year in range(2006,2013):\n",
    "    errors_by_years[year] = all_years_errors[start_season_dict[year]:start_season_dict[year-1]]\n",
    "    \n",
    "errors_by_years[2005] = all_years_errors[start_season_dict[2005]:]"
   ]
  },
  {
   "cell_type": "code",
   "execution_count": 35,
   "metadata": {
    "collapsed": false
   },
   "outputs": [],
   "source": [
    "assert_equal(errors_by_years[2007][0], 'Start of 2007 season.')\n",
    "assert_equal('took' in errors_by_years[2007][-1], True) #should be '2007 took {time} seconds.'"
   ]
  },
  {
   "cell_type": "markdown",
   "metadata": {},
   "source": [
    "We now create and fill out the dash_errors and other_errors dictionary. The key difference between the structure of the two error messages is that a dash error message has length 2 (when split by spaces) while other errors have length 3."
   ]
  },
  {
   "cell_type": "code",
   "execution_count": 36,
   "metadata": {
    "collapsed": false
   },
   "outputs": [],
   "source": [
    "\n",
    "#keys of dictionaries\n",
    "years = [year for year in range(2005,2013)]\n",
    "#values are lists\n",
    "empty_lists = [[] for year in range(2005,2013)]\n",
    "\n",
    "dash_errors = {}#dict(zip(years,empty_lists))\n",
    "other_errors = {}#dict(zip(years,empty_lists))\n",
    "\n",
    "for year in range(2005, 2013):\n",
    "    for error in errors_by_years[year]:\n",
    "        #other error\n",
    "        if len(error.split())==3:\n",
    "            if year in other_errors:\n",
    "                other_errors[year].append(error.split()[2])\n",
    "            else:\n",
    "                other_errors[year] = [error.split()[2]]\n",
    "            #other_errors[year].append(error.split()[2]) #store Matchup ID in other errors dictionary\n",
    "            #print('-'*50 + 'yo its another other error')\n",
    "            \n",
    "        #other error\n",
    "        elif len(error.split())==2:\n",
    "            if year in dash_errors:\n",
    "                dash_errors[year].append(error.split()[0])\n",
    "            else:\n",
    "                dash_errors[year] = [error.split()[0]]\n",
    "            #dash_errors[year].append(error.split()[0]) #store Matchup ID in dash error dictionary\n",
    "            #print('dash error')"
   ]
  },
  {
   "cell_type": "code",
   "execution_count": 37,
   "metadata": {
    "collapsed": false
   },
   "outputs": [],
   "source": [
    "#check that dictionaries stored some correct Matchup ID's for 2010\n",
    "year_2010 = 2010\n",
    "\n",
    "for error in errors_by_years[year_2010]:\n",
    "    if len(error.split()) == 2:\n",
    "        assert_equal(error.split()[0] in dash_errors[year_2010], True)\n",
    "        break\n",
    "\n",
    "for error in errors_by_years[year_2010]:\n",
    "    if len(error.split()) == 3:\n",
    "        assert_equal(error.split()[2] in other_errors[year_2010], True)"
   ]
  },
  {
   "cell_type": "markdown",
   "metadata": {},
   "source": [
    "## Checking dash errors \n",
    "\n",
    "For the first 6 seasons that we cleaned, we were fortunate if a single game stat for a player was dashed, i.e., a player's stat was listed as '--' or '-----', then all of the player's game stats were dashed. This might not hold true in future seasons. For example, during the 2007-2008 season, 'plusminus' (which for a player, equals the number of points the player's team scored minus the points the opponent team scored while the player was win) was not kept track of on ESPN.com during the 2007-2008 season and before. See, for instance, the box score at http://www.espn.com/nba/boxscore?gameId=271103026 for a November 2007 game between the Warriors and the Jazz.\n",
    "\n",
    "We are interested in the lists dash_errors[year], where year ranges between 2009 and 2018. Note that if a player has all dashes for stats, then the game will appear 17 times (the total number of stats) in the dash errors list. We are interested if all dash errors occur this way. We will analyze this by counting the number of times each game appears in the dash errors list. For this, we will use `Counter` from the `collections` module."
   ]
  },
  {
   "cell_type": "code",
   "execution_count": 38,
   "metadata": {
    "collapsed": false
   },
   "outputs": [
    {
     "name": "stdout",
     "output_type": "stream",
     "text": [
      "['310428001', '310512001', '310426019', '310510004', '310424001', '310508001', '310422001', '310506001', '310420024', '310504004', '310502004', '310412013', '310406024', '310429029', '310427024', '310425029', '310423029', '310419019', '310417024', '310413030', '310413021', '310327029', '310411001', '310409024', '310416019', '310405001', '310403024', '310401010']\n"
     ]
    }
   ],
   "source": [
    "#print(dash_errors[2012])\n",
    "print(other_errors[2011])"
   ]
  },
  {
   "cell_type": "code",
   "execution_count": 39,
   "metadata": {
    "collapsed": false
   },
   "outputs": [
    {
     "name": "stdout",
     "output_type": "stream",
     "text": [
      "2012: No other errors\n"
     ]
    }
   ],
   "source": [
    "from collections import Counter\n",
    "\n",
    "#keys: year\n",
    "#values: Counter objects that keep track of how many stats for games have dash errors\n",
    "dash_errors_counts = {}\n",
    "other_errors_counts = {}\n",
    "for year in range(2009, 2013):\n",
    "    try:\n",
    "        dash_errors_counts[year] = Counter(dash_errors[year])\n",
    "    except KeyError as error:\n",
    "        print('{0}: No dash errors'.format(year))\n",
    "    try:\n",
    "        other_errors_counts[year] = Counter(other_errors[year])\n",
    "    except KeyError as error:\n",
    "        print('{0}: No other errors'.format(year))"
   ]
  },
  {
   "cell_type": "markdown",
   "metadata": {},
   "source": [
    "Oh wonderful! All dash errors occur with all stats being dashes. We will now check that this holds true down to the 2008-2009 season."
   ]
  },
  {
   "cell_type": "code",
   "execution_count": 41,
   "metadata": {
    "collapsed": false
   },
   "outputs": [
    {
     "name": "stdout",
     "output_type": "stream",
     "text": [
      "Number of games with 1-17 dash errors: 0\n"
     ]
    }
   ],
   "source": [
    "#keeps track of games where less 17 stats affected\n",
    "dash_not_max = 0\n",
    "\n",
    "for year in range(2009, 2012):\n",
    "    for matchup_id in dash_errors_counts[year]:\n",
    "        if dash_errors_counts[year][matchup_id] != 17:\n",
    "            print('Y: {0}, ID: {1}, Count: {2}'.format(year, matchup_id, dash_errors_counts[year][matchup_id]))\n",
    "            dash_not_max += 1\n",
    "\n",
    "print('Number of games with 1-17 dash errors: {0}'.format(dash_not_max))"
   ]
  },
  {
   "cell_type": "markdown",
   "metadata": {
    "collapsed": false
   },
   "source": [
    "It does hold true! We will simply remove rows with dashes for the 'minutes' stat, since those are exactly the rows with dashes for any stats, which coincide with the rows that have dashes for all stats.\n",
    "\n",
    "Just for kicks, we will see how many dash errors occurred by season."
   ]
  },
  {
   "cell_type": "code",
   "execution_count": 42,
   "metadata": {
    "collapsed": false
   },
   "outputs": [
    {
     "name": "stdout",
     "output_type": "stream",
     "text": [
      "Year 2009: 37 dash error rows\n",
      "Year 2010: 14 dash error rows\n",
      "Year 2011: 18 dash error rows\n",
      "Year 2012: 24 dash error rows\n"
     ]
    }
   ],
   "source": [
    "for year in range(2009,2013):\n",
    "    print('Year {0}: {1} dash error rows'.format(year, len(dash_errors_counts[year])))"
   ]
  },
  {
   "cell_type": "code",
   "execution_count": 43,
   "metadata": {
    "collapsed": true
   },
   "outputs": [],
   "source": [
    "#remove rows with dash errors\n",
    "for year in range(2009,2013):\n",
    "    clean_dash_rows(year,con,cur).to_csv(base_cleaned_df_to_csv.format(year))"
   ]
  },
  {
   "cell_type": "markdown",
   "metadata": {},
   "source": [
    "To conclude this notebook, we will determine how many games had a critical error other than dashes. We will also examine some of the box scores of games with these errors. Recall we already found that the 2011-2012 season had no other types of errors."
   ]
  },
  {
   "cell_type": "code",
   "execution_count": 44,
   "metadata": {
    "collapsed": false
   },
   "outputs": [
    {
     "name": "stdout",
     "output_type": "stream",
     "text": [
      "2009: 15 other critical errors\n",
      "2010: 43 other critical errors\n",
      "2011: 28 other critical errors\n",
      "2012: 0 other critical errors\n"
     ]
    }
   ],
   "source": [
    "for year in range(2009, 2013):\n",
    "    #print number of other errors by year\n",
    "    try:\n",
    "        print('{0}: {1} other critical errors'.format(year, len(other_errors_counts[year])))\n",
    "    \n",
    "    #no other errors for that year\n",
    "    except KeyError as error:\n",
    "        print('{0}: 0 other critical errors'.format(year))"
   ]
  },
  {
   "cell_type": "markdown",
   "metadata": {},
   "source": [
    "Let's calculate the percentage of games that have other critical errors by year. For this, we will use SQL to first find the number of unique Matchup ID's per year."
   ]
  },
  {
   "cell_type": "code",
   "execution_count": 45,
   "metadata": {
    "collapsed": true
   },
   "outputs": [],
   "source": [
    "#keys: years between 2009 and 2012\n",
    "#values: set of Matchup ID's for that year\n",
    "num_games = {}\n",
    "\n",
    "#for year in range(2009, 2013):\n",
    " #   all_matchup_ids = all_game_info[all_game_info['season_end_year']==year].loc[:,'matchup_id']\n"
   ]
  },
  {
   "cell_type": "code",
   "execution_count": 46,
   "metadata": {
    "collapsed": false
   },
   "outputs": [
    {
     "name": "stdout",
     "output_type": "stream",
     "text": [
      "{2009: 1315, 2010: 1312, 2011: 1311, 2012: 1074}\n"
     ]
    }
   ],
   "source": [
    "all_game_info.loc[:,'team':].to_sql(name='all_games_info', con=con, if_exists='replace', \\\n",
    "                        index=False, chunksize=1000)\n",
    "\n",
    "#count number of games by nmber of Matchup ID's\n",
    "sql_num_games = \"\\\n",
    "SELECT season_end_year, COUNT(DISTINCT matchup_id) \\\n",
    "FROM all_games_info \\\n",
    "WHERE season_end_year <= 2012 \\\n",
    "AND season_end_year >= 2009 \\\n",
    "GROUP BY season_end_year \\\n",
    "\"\n",
    "\n",
    "cur.execute(sql_num_games)\n",
    "\n",
    "#keys: years between 2009 and 2012\n",
    "#values: set of Matchup ID's for that year\n",
    "num_games = {}\n",
    "\n",
    "for row in cur:\n",
    "    num_games[row[0]] = row[1]\n",
    "    \n",
    "print(num_games) #2011-2012 season was strike-shortened"
   ]
  },
  {
   "cell_type": "code",
   "execution_count": 47,
   "metadata": {
    "collapsed": false
   },
   "outputs": [
    {
     "name": "stdout",
     "output_type": "stream",
     "text": [
      "Percentage of games with another critical error: \n",
      "2009: 1.14%\n",
      "2010: 3.28%\n",
      "2011: 2.14%\n",
      "2012: 0%\n"
     ]
    }
   ],
   "source": [
    "#percentage of games with critical error by year\n",
    "print('Percentage of games with another critical error: ')\n",
    "for year in range(2009,2012):\n",
    "    print('{0}: {1:.2f}%'.format(year, 100 * len(other_errors_counts[year])/num_games[year]))\n",
    "print('2012: 0%')"
   ]
  },
  {
   "cell_type": "markdown",
   "metadata": {},
   "source": [
    "There are very few games (relatively) that have critical errors other than dash errors. Recall how we dealt with games with other types of critical errors when retrieving their player stats: we simply didn't retrieve the box scores. Thus, these games are completely omitted from the list of box scores. We choose to simply keep it this way rather than trying ad hoc methods to retrieve their player stats."
   ]
  },
  {
   "cell_type": "code",
   "execution_count": 48,
   "metadata": {
    "collapsed": true
   },
   "outputs": [],
   "source": [
    "#close cursor and connection since we no longer will do SQL commands\n",
    "cur.close()\n",
    "con.close()"
   ]
  },
  {
   "cell_type": "markdown",
   "metadata": {},
   "source": [
    "We conclude by viewing some of the box scores of error games during the 2010 season."
   ]
  },
  {
   "cell_type": "code",
   "execution_count": 49,
   "metadata": {
    "collapsed": false
   },
   "outputs": [
    {
     "data": {
      "text/plain": [
       "['300331008', '300331024', '300329017', '300411018', '300325004']"
      ]
     },
     "execution_count": 49,
     "metadata": {},
     "output_type": "execute_result"
    }
   ],
   "source": [
    "#retreive Matchup ID's for 5 games with other critical errors\n",
    "error_games_2010 = list(other_errors_counts[2010].keys())[:5]\n",
    "\n",
    "error_games_2010"
   ]
  },
  {
   "cell_type": "code",
   "execution_count": 50,
   "metadata": {
    "collapsed": false
   },
   "outputs": [
    {
     "name": "stdout",
     "output_type": "stream",
     "text": [
      "Corresponding box scores at links\n",
      "--------------------------------------------------\n",
      "http://www.espn.com/nba/boxscore?gameId=300331008\n",
      "http://www.espn.com/nba/boxscore?gameId=300331024\n",
      "http://www.espn.com/nba/boxscore?gameId=300329017\n",
      "http://www.espn.com/nba/boxscore?gameId=300411018\n",
      "http://www.espn.com/nba/boxscore?gameId=300325004\n"
     ]
    }
   ],
   "source": [
    "print('Corresponding box scores at links')\n",
    "print('-'*50)\n",
    "\n",
    "base_box_score_url = 'http://www.espn.com/nba/boxscore?gameId={0}'\n",
    "\n",
    "for matchup_id in error_games_2010:\n",
    "    print(base_box_score_url.format(matchup_id))"
   ]
  },
  {
   "cell_type": "markdown",
   "metadata": {},
   "source": [
    "Examining the box scores, it isn't clear what is wrong them that led to the critical error. \n",
    "\n",
    "However, we do make one observation. In all of the games, there are unreasonable values for plus/minus. More specifically, there are players in each game with plus/minus larger than +7 or less than -7 who played 0 minutes. This is nearly impossible, and wouldn't occur with such frequency. (It's very, very rare that a team scores more than 10 points in a single minute.) Thus, we will need to take our plus/minus stats with a grain of salt moving forward. "
   ]
  }
 ],
 "metadata": {
  "kernelspec": {
   "display_name": "Python 3",
   "language": "python",
   "name": "python3"
  },
  "language_info": {
   "codemirror_mode": {
    "name": "ipython",
    "version": 3
   },
   "file_extension": ".py",
   "mimetype": "text/x-python",
   "name": "python",
   "nbconvert_exporter": "python",
   "pygments_lexer": "ipython3",
   "version": "3.6.0"
  }
 },
 "nbformat": 4,
 "nbformat_minor": 2
}
