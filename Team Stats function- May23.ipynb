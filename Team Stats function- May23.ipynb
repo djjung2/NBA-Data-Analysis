{
 "cells": [
  {
   "cell_type": "markdown",
   "metadata": {},
   "source": [
    "# Team Stats DataFrame Function"
   ]
  },
  {
   "cell_type": "markdown",
   "metadata": {},
   "source": [
    "In this notebook, we will define a function that stores the team stats of a basketball game in a DataFrame. This function will take as input a url which has a team stats table in it.\n",
    "It will output a DataFrame with 2 records (visitor team and home team) and columns for stats, such as team name, points scored each quarters, and rebounds.\n",
    "\n",
    "This wil build upon the last two notebooks: \"WebScraping May 21\" and \"WebScraping for Game 3 of 2018 WCF May22\"."
   ]
  },
  {
   "cell_type": "markdown",
   "metadata": {},
   "source": [
    "We begin by importing the libraries we will need for this notebook."
   ]
  },
  {
   "cell_type": "code",
   "execution_count": 1,
   "metadata": {
    "collapsed": true
   },
   "outputs": [],
   "source": [
    "import requests #convert page at url into html file\n",
    "from bs4 import BeautifulSoup #for processing and reading html file\n",
    "import pandas as pd"
   ]
  },
  {
   "cell_type": "markdown",
   "metadata": {},
   "source": [
    "We now define the url to DataFrame function.\n",
    "\n",
    "One case we haven't had to deal with yet is the case that the game goes into overtime. The function will give an error if we try to run the function on a game that went into overtime. To rectify this issue, we will store the number of overtimes in a separate column and store the points scored per overtime period in a list in another column."
   ]
  },
  {
   "cell_type": "code",
   "execution_count": 2,
   "metadata": {
    "collapsed": true
   },
   "outputs": [],
   "source": [
    "def teamstats(url):\n",
    "    '''\n",
    "    Extract a table of team stats from a webpage at a url and store the stats in a DataFrame.\n",
    "    \n",
    "    Input:\n",
    "    url to page with team stats table\n",
    "    \n",
    "    Output:\n",
    "    DataFrame (2 records x 29 columns)\n",
    "        One record each for visistor team and home team\n",
    "    '''\n",
    "    \n",
    "    page = requests.get(url)\n",
    "    html = page.content\n",
    "    \n",
    "    soup = BeautifulSoup(html, 'lxml')\n",
    "    tables = soup.find_all('table')\n",
    "    \n",
    "    tb0 = tables[0].tbody #table with team names, points scored each quarter, total points\n",
    "    tb1 = tables[1].tbody #table with traditional team stats (assists, total rebounds, etc.)\n",
    "    \n",
    "    [visitor_team_row, home_team_row] = [row for row in tb0.find_all('tr')]\n",
    "    #lists of team name, points scored each quarter, total points    \n",
    "    visitor_team_name_points = [val.contents[0].strip() for val in visitor_team_row.find_all('td')]\n",
    "    home_team_name_points = [val.contents[0].strip() for val in home_team_row.find_all('td')]\n",
    "    \n",
    "    #Handling the case that the game went to overtime\n",
    "    if len(visitor_team_name_points) > 6: #it was an overtime game\n",
    "        num_overtimes = len(visitor_team_name_points) - 6 #number of overtime periods\n",
    "        #List of int's for visitor and home teams of points scored per overtime period\n",
    "        visitor_overtime_points = list(map(int,visitor_team_name_points[5:5+num_overtimes]))\n",
    "        home_overtime_points = list(map(int,home_team_name_points[5:5+num_overtimes]))\n",
    "        #then remove these items from lists of team name and point totals\n",
    "        for period in range(num_overtimes):\n",
    "            visitor_team_name_points.pop(5 + period)\n",
    "            home_team_name_points.pop(5 + period)\n",
    "    else: #no overtime\n",
    "        num_overtimes = 0\n",
    "        visitor_overtime_points = []\n",
    "        home_overtime_points = []\n",
    "\n",
    "    #create 3 lists for Team Stats table\n",
    "    #List 1: names of stats in Team Stats table\n",
    "    #List 2: corresponding visitor team's stat\n",
    "    #List 3: corresponding home team's stat\n",
    "    tb1_stat_names, tbl_visitor_stats, tb1_home_stats = [], [], []\n",
    "    \n",
    "    #cycle over different stats\n",
    "    for row in tb1.find_all('tr'):\n",
    "        \n",
    "        tdx = [val for val in row.find_all('td')]\n",
    "        \n",
    "        tb1_stat_names += tdx[0].contents[0].strip().split('-')\n",
    "        tbl_visitor_stats += tdx[1].contents[0].strip().split('-')\n",
    "        tb1_home_stats += tdx[2].contents[0].strip().split('-')\n",
    "    \n",
    "    \n",
    "    #precede each stat 'Attempted' with type of shot attempted\n",
    "    tb1_stat_names[1] = 'FG Attempted'\n",
    "    tb1_stat_names[4] = '3PT Attempted'\n",
    "    tb1_stat_names[7] = 'FT Attempted'\n",
    "    \n",
    "    tb0_stat_names = ['Team name', '1st Qtr Points', '2nd Qtr Points', \\\n",
    "                  '3rd Qtr Points', '4th Qtr Points', 'Total Points']\n",
    "    \n",
    "    #names of all stats, including team name, rebounds, etc.\n",
    "    stat_names = tb0_stat_names + tb1_stat_names + ['Number of OT Periods', 'OT Points']\n",
    "    #corresponding stats for teams\n",
    "    visitor_stats = visitor_team_name_points + tbl_visitor_stats + [num_overtimes, visitor_overtime_points]\n",
    "    home_stats = home_team_name_points + tb1_home_stats + [num_overtimes, home_overtime_points]\n",
    "    \n",
    "    #create DataFrame of all stats (all entries will be type string (why??))\n",
    "    stats_df = pd.DataFrame(columns=stat_names)\n",
    "    stats_df.loc[0] = visitor_stats\n",
    "    stats_df.loc[1] = home_stats\n",
    "    \n",
    "    #append column of which team won (1 if won, 0 if lost)\n",
    "    if int(stats_df.loc[0,'Total Points']) > int(stats_df.loc[1,'Total Points']):\n",
    "        stats_df.loc[:,'Won?'] = pd.Series([1,0])\n",
    "    else:\n",
    "        stats_df.loc[:,'Won?'] = pd.Series([0,1])\n",
    "        \n",
    "    \n",
    "    #convert all entries from string type to (int or float) type (except for Team Name)\n",
    "    #column_names = list(stats_df.columns)\n",
    "    \n",
    "    for stat in stat_names:\n",
    "        if (stat == 'Team name') or (stat == 'OT Points'):\n",
    "            pass\n",
    "        elif '%' in stat: #convert percentage stats to float type\n",
    "            stats_df[stat] = stats_df[stat].apply(lambda num: float(num))\n",
    "        else: #convert other stats to int type\n",
    "            stats_df[stat] = stats_df[stat].apply(lambda num: int(num))\n",
    "            \n",
    "    return stats_df    "
   ]
  },
  {
   "cell_type": "markdown",
   "metadata": {},
   "source": [
    "## Testing function\n",
    "\n",
    "We check that our function works for the original game we were interested in- Game 3 of the 2018 Western Conference Finals. We then check that the function works applied to another function."
   ]
  },
  {
   "cell_type": "code",
   "execution_count": 3,
   "metadata": {
    "collapsed": false
   },
   "outputs": [
    {
     "name": "stdout",
     "output_type": "stream",
     "text": [
      "  Team name  1st Qtr Points  2nd Qtr Points  3rd Qtr Points  4th Qtr Points  \\\n",
      "0       HOU              22              21              24              18   \n",
      "1        GS              31              23              34              38   \n",
      "\n",
      "   Total Points  FG Made  FG Attempted  Field Goal %  3PT Made  ...   \\\n",
      "0            85       32            81          39.5        11  ...    \n",
      "1           126       48            92          52.2        13  ...    \n",
      "\n",
      "   Total Turnovers  Points Off Turnovers  Fast Break Points  Points in Paint  \\\n",
      "0               20                    28                 10               40   \n",
      "1                8                     8                 23               56   \n",
      "\n",
      "   Personal Fouls  Technical Fouls  Flagrant Fouls  Number of OT Periods  \\\n",
      "0              19                2               0                     0   \n",
      "1              16                1               0                     0   \n",
      "\n",
      "   OT Points  Won?  \n",
      "0         []     0  \n",
      "1         []     1  \n",
      "\n",
      "[2 rows x 31 columns]\n"
     ]
    }
   ],
   "source": [
    "#link to page with team stats\n",
    "url = \"http://www.espn.com/nba/matchup?gameId=401032763\"\n",
    "\n",
    "#Test function on Game 3 of 2018 WCF\n",
    "stats_df = teamstats(url)\n",
    "print(stats_df)"
   ]
  },
  {
   "cell_type": "code",
   "execution_count": 4,
   "metadata": {
    "collapsed": false
   },
   "outputs": [
    {
     "name": "stdout",
     "output_type": "stream",
     "text": [
      "  Team name  1st Qtr Points  2nd Qtr Points  3rd Qtr Points  4th Qtr Points  \\\n",
      "0       HOU              19              34              17              25   \n",
      "1        GS              28              18              34              12   \n",
      "\n",
      "   Total Points  FG Made  FG Attempted  Field Goal %  3PT Made  ...   \\\n",
      "0            95       30            77          39.0        12  ...    \n",
      "1            92       35            89          39.3         9  ...    \n",
      "\n",
      "   Total Turnovers  Points Off Turnovers  Fast Break Points  Points in Paint  \\\n",
      "0               13                    18                 13               34   \n",
      "1               16                    20                  8               36   \n",
      "\n",
      "   Personal Fouls  Technical Fouls  Flagrant Fouls  Number of OT Periods  \\\n",
      "0              19                0               0                     0   \n",
      "1              24                0               0                     0   \n",
      "\n",
      "   OT Points  Won?  \n",
      "0         []     1  \n",
      "1         []     0  \n",
      "\n",
      "[2 rows x 31 columns]\n"
     ]
    }
   ],
   "source": [
    "#Test function on Game 4 of 2018 WCF\n",
    "url_game4 = 'http://www.espn.com/nba/matchup?gameId=401032764'\n",
    "\n",
    "stats_df_game4 = teamstats(url_game4)\n",
    "print(stats_df_game4)"
   ]
  },
  {
   "cell_type": "markdown",
   "metadata": {},
   "source": [
    "We now check the function on a game that went to overtime, specifically the December 18, 2017 game between the Los Angeles Lakers and Golden State Warriors. \n",
    "\n",
    "The final score of the game was 116-114 and it lasted one overtime.\n"
   ]
  },
  {
   "cell_type": "code",
   "execution_count": 5,
   "metadata": {
    "collapsed": false
   },
   "outputs": [
    {
     "name": "stdout",
     "output_type": "stream",
     "text": [
      "  Team name  1st Qtr Points  2nd Qtr Points  3rd Qtr Points  4th Qtr Points  \\\n",
      "0        GS              32              25              26              19   \n",
      "1       LAL              24              29              29              20   \n",
      "\n",
      "   Total Points  FG Made  FG Attempted  Field Goal %  3PT Made  ...   \\\n",
      "0           116       43           107          40.2        11  ...    \n",
      "1           114       41            92          44.6        10  ...    \n",
      "\n",
      "   Total Turnovers  Points Off Turnovers  Fast Break Points  Points in Paint  \\\n",
      "0               15                    12                 17               56   \n",
      "1               12                    11                 17               56   \n",
      "\n",
      "   Personal Fouls  Technical Fouls  Flagrant Fouls  Number of OT Periods  \\\n",
      "0              26                1               0                     1   \n",
      "1              26                0               0                     1   \n",
      "\n",
      "   OT Points  Won?  \n",
      "0       [14]     1  \n",
      "1       [12]     0  \n",
      "\n",
      "[2 rows x 31 columns]\n"
     ]
    }
   ],
   "source": [
    "url_ot = 'http://www.espn.com/nba/matchup?gameId=400975201'\n",
    "\n",
    "stats_df_ot = teamstats(url_ot)\n",
    "\n",
    "print(stats_df_ot)"
   ]
  }
 ],
 "metadata": {
  "kernelspec": {
   "display_name": "Python 3",
   "language": "python",
   "name": "python3"
  },
  "language_info": {
   "codemirror_mode": {
    "name": "ipython",
    "version": 3
   },
   "file_extension": ".py",
   "mimetype": "text/x-python",
   "name": "python",
   "nbconvert_exporter": "python",
   "pygments_lexer": "ipython3",
   "version": "3.6.0"
  }
 },
 "nbformat": 4,
 "nbformat_minor": 2
}
