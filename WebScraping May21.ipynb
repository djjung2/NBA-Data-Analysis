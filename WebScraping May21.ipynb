{
 "cells": [
  {
   "cell_type": "markdown",
   "metadata": {},
   "source": [
    "# Beginning Web Scraping- May 21st"
   ]
  },
  {
   "cell_type": "markdown",
   "metadata": {},
   "source": [
    "## Goal\n",
    "\n",
    "This is the beginning of an NBA data analysis project. The initial goal of this project is to determine the primary factors related to winning basketball games. "
   ]
  },
  {
   "cell_type": "markdown",
   "metadata": {},
   "source": [
    "## Content of this notebook\n",
    "\n",
    "While I'm not sure where this project will lead, I will begin where most data analysis projects do- data collection. \n",
    "\n",
    "In this document, I will gather the team stats for Game 3 of the 2018 Western Conference Finals. This game was played between the Houston Rockets and the Golden State Warriors on May 20, 2018. The Warriors won 126-85.\n",
    "\n",
    "The team stats for this game are gathered in a table at http://www.espn.com/nba/matchup?gameId=401032763 . These stats include FG Made-Attempted, Assists, and Blocks among others, and are based on the total actions made by the whole team. For instance, if Kevin Durant had 10 assists and Stephen Curry had 5 assists while no one else had any assists, the Warriors would have 15 assists as a team.\n",
    "\n",
    "I will use the requests library to grab the content of the table as an html file. I will then use the BeautifulSoup library to read and access the table. I will then store the stats in a DataFrame using the Pandas library.\n",
    "\n",
    "There were two changes I needed to make to the DataFrame.\n",
    "1. Three stats involving \"Made-Attempted\" were written in the format \"(int)-(int)\". These stats were \"FG Made-Attempted\", \"3PT Made-Attempted\", and \"FT Made-Attempted\". I split these into two columns, one column of \"Made\" and one column of \"Attempted\".\n",
    "\n",
    "2. All of the entries are of string type. I changed all of the entries to float's (if a percentage) and int's (otherwise).\n",
    "\n",
    "\n",
    "By using stats from ESPN, I agree to the Disney terms of use."
   ]
  },
  {
   "cell_type": "markdown",
   "metadata": {},
   "source": [
    "## Using requests and BeautifulSoup to read page\n",
    "\n",
    "I first gather read in a page as an html file using the requests library. I then use the BeautifulSoup library to process the html file. I print the BeautifulSoup in a readable format using the prettify method."
   ]
  },
  {
   "cell_type": "code",
   "execution_count": 1,
   "metadata": {
    "collapsed": false
   },
   "outputs": [],
   "source": [
    "url = \"http://www.espn.com/nba/matchup?gameId=401032763\"\n",
    "\n",
    "import requests\n",
    "page = requests.get(url) #rquests.models.Response object\n",
    "\n",
    "html = page.content #html file"
   ]
  },
  {
   "cell_type": "code",
   "execution_count": 2,
   "metadata": {
    "collapsed": false
   },
   "outputs": [],
   "source": [
    "from bs4 import BeautifulSoup #library that parses web-accessible data\n",
    "\n",
    "soup = BeautifulSoup(html, 'lxml') #processing html file"
   ]
  },
  {
   "cell_type": "code",
   "execution_count": 3,
   "metadata": {
    "collapsed": false
   },
   "outputs": [
    {
     "name": "stdout",
     "output_type": "stream",
     "text": [
      "b'\\n\\t<!DOCTYPE html>\\n\\t<html class=\"no-icon-fonts\">\\n\\t<head>\\n\\t\\t<meta http-equiv=\"content-type\" content=\"text/html; charset=UTF-8\" />\\n<meta http-equiv=\"x-ua-compatible\" content=\"IE=edge,chrome=1\" />\\n<meta name=\"viewport\" content=\"initial-scale=1.0, maximum-scale=1.0, user-scalable=no\">\\n<link rel=\"canonical\" href=\"http://www.espn.com/nba/matchup?gameId=401032763\" />\\n<title>Rockets vs. Warriors - Team Statistics - May 20, 2018 - ESPN</title>\\n<meta name=\"description\" content=\"Get team statistics for the '\n",
      "\n",
      "--------------------------------------------------\n",
      "\n",
      "<!DOCTYPE html>\n",
      "<html class=\"no-icon-fonts\">\n",
      " <head>\n",
      "  <meta content=\"text/html; charset=utf-8\" http-equiv=\"content-type\"/>\n",
      "  <meta content=\"IE=edge,chrome=1\" http-equiv=\"x-ua-compatible\"/>\n",
      "  <meta content=\"initial-scale=1.0, maximum-scale=1.0, user-scalable=no\" name=\"viewport\"/>\n",
      "  <link href=\"http://www.espn.com/nba/matchup?gameId=401032763\" rel=\"canonical\"/>\n",
      "  <title>\n",
      "   Rockets vs. Warriors - Team Statistics - May 20, 2018 - ESPN\n",
      "  </title>\n",
      "  <meta content=\"Get team statistics for the Houston\n"
     ]
    }
   ],
   "source": [
    "#Compare the great change in readability between the html and processed files\n",
    "print(html[:500])\n",
    "\n",
    "print('\\n' + '-'*50 + '\\n')\n",
    "\n",
    "print(soup.prettify()[:500]) "
   ]
  },
  {
   "cell_type": "markdown",
   "metadata": {},
   "source": [
    "## Finding the team stats table\n",
    "\n",
    "I find that there are four tables in the html file. By printing the beginning of each table, I find that Table 1 stores all of the team stats (besides points scored and points scored per quarter). "
   ]
  },
  {
   "cell_type": "code",
   "execution_count": 4,
   "metadata": {
    "collapsed": false
   },
   "outputs": [
    {
     "name": "stdout",
     "output_type": "stream",
     "text": [
      "Document contains 4 HTML Table(s)\n"
     ]
    }
   ],
   "source": [
    "#find all tables in file\n",
    "tables = soup.find_all('table')\n",
    "\n",
    "print('Document contains {0} HTML Table(s)'.format(len(tables)))"
   ]
  },
  {
   "cell_type": "code",
   "execution_count": 5,
   "metadata": {
    "collapsed": false
   },
   "outputs": [
    {
     "name": "stdout",
     "output_type": "stream",
     "text": [
      "Table 0\n",
      "<table class=\"miniTable\" id=\"linescore\">\n",
      " <thead>\n",
      "  <tr>\n",
      "   <th class=\"network\">\n",
      "   </th>\n",
      "   <th>\n",
      "    1\n",
      "   </th>\n",
      "   <th>\n",
      "    2\n",
      "   </th>\n",
      "   <th>\n",
      "    3\n",
      "   </th>\n",
      "   <th>\n",
      "    4\n",
      "   </th>\n",
      "   <th class=\"final-score\">\n",
      "    T\n",
      "   </th>\n",
      "  </tr>\n",
      " </thead>\n",
      " <tbody>\n",
      "  <tr>\n",
      "   <td class=\"team-name\">\n",
      "    HOU\n",
      "   </td>\n",
      "   <td>\n",
      "    22\n",
      "   </td>\n",
      "   <td>\n",
      "    21\n",
      "   </td>\n",
      "   <td>\n",
      "    24\n",
      "   </td>\n",
      "   <td>\n",
      "    18\n",
      "   </td>\n",
      "  \n",
      "\n",
      "--------------------------------------------------\n",
      "\n",
      "Table 1\n",
      "<table class=\"mod-data\">\n",
      " <thead>\n",
      "  <tr class=\"header\">\n",
      "   <th>\n",
      "    Matchup\n",
      "   </th>\n",
      "   <th>\n",
      "    <img src=\"http://a.espncdn.com/combiner/i?img=/i/teamlogos/nba/500/hou.png&amp;h=100&amp;w=100\"/>\n",
      "   </th>\n",
      "   <th>\n",
      "    <img src=\"http://a.espncdn.com/combiner/i?img=/i/teamlogos/nba/500/gs.png&amp;h=100&amp;w=100\"/>\n",
      "   </th>\n",
      "  </tr>\n",
      " </thead>\n",
      " <tbody>\n",
      "  <tr class=\"highlight\" data-stat-attr=\"fieldGoalsM\n",
      "\n",
      "--------------------------------------------------\n",
      "\n",
      "Table 2\n",
      "<table class=\"mod-data\">\n",
      " <thead>\n",
      "  <tr>\n",
      "   <th class=\"left\" scope=\"col\" title=\"team\">\n",
      "    TEAM\n",
      "   </th>\n",
      "   <th class=\"right\" scope=\"col\" title=\"W\">\n",
      "    W\n",
      "   </th>\n",
      "   <th class=\"right\" scope=\"col\" title=\"L\">\n",
      "    L\n",
      "   </th>\n",
      "   <th class=\"right\" scope=\"col\" title=\"PCT\">\n",
      "    PCT\n",
      "   </th>\n",
      "   <th class=\"right\" scope=\"col\" title=\"GB\">\n",
      "    GB\n",
      "   </th>\n",
      "   <th class=\"right\" scope=\"col\" title=\"STRK\">\n",
      "    ST\n",
      "\n",
      "--------------------------------------------------\n",
      "\n",
      "Table 3\n",
      "<table class=\"mod-data\">\n",
      " <thead>\n",
      "  <tr>\n",
      "   <th class=\"left\" scope=\"col\" title=\"team\">\n",
      "    TEAM\n",
      "   </th>\n",
      "   <th class=\"right\" scope=\"col\" title=\"W\">\n",
      "    W\n",
      "   </th>\n",
      "   <th class=\"right\" scope=\"col\" title=\"L\">\n",
      "    L\n",
      "   </th>\n",
      "   <th class=\"right\" scope=\"col\" title=\"PCT\">\n",
      "    PCT\n",
      "   </th>\n",
      "   <th class=\"right\" scope=\"col\" title=\"GB\">\n",
      "    GB\n",
      "   </th>\n",
      "   <th class=\"right\" scope=\"col\" title=\"STRK\">\n",
      "    ST\n",
      "\n",
      "--------------------------------------------------\n",
      "\n"
     ]
    }
   ],
   "source": [
    "#print first 400 characters of 4 tables (to be able to understand content)\n",
    "for idx in range(len(tables)):\n",
    "    print('Table {0}'.format(idx))\n",
    "    print(tables[idx].prettify()[:400])\n",
    "    print('\\n' + '-'*50 + '\\n')\n",
    "    \n",
    "#Find that:\n",
    "    '''\n",
    "Table 0: Quarters, Team name with points per quarter\n",
    "Table 1: all team stats in tbody\n",
    "Table 2,3: not displayed on page, regular season win-loss records for other teams (not sure why this is)\n",
    "    '''\n"
   ]
  },
  {
   "cell_type": "code",
   "execution_count": 6,
   "metadata": {
    "collapsed": false
   },
   "outputs": [
    {
     "name": "stdout",
     "output_type": "stream",
     "text": [
      "<tbody>\n",
      " <tr class=\"highlight\" data-stat-attr=\"fieldGoalsMade-fieldGoalsAttempted\">\n",
      "  <td>\n",
      "   FG Made-Attempted\n",
      "  </td>\n",
      "  <td>\n",
      "   32-81\n",
      "  </td>\n",
      "  <td>\n",
      "   48-92\n",
      "  </td>\n",
      " </tr>\n",
      " <tr class=\"highlight\" data-stat-attr=\"fieldGoalPct\">\n",
      "  <td>\n",
      "   Field Goal %\n",
      "  </td>\n",
      "  <td>\n",
      "   39.5\n",
      "  </td>\n",
      "  <td>\n",
      "   52.2\n",
      "  </td>\n",
      " </tr>\n",
      " <tr class=\"highlight\" data-stat-attr=\"threePointFieldGoalsMade-threePointFieldGoalsAtt\n"
     ]
    }
   ],
   "source": [
    "#want to extract team stats (found in body of Table 1)\n",
    "tb = tables[1].tbody\n",
    "\n",
    "print(tb.prettify()[:400])"
   ]
  },
  {
   "cell_type": "markdown",
   "metadata": {},
   "source": [
    "## Extracting stats from table\n",
    "\n",
    "I first show how to print each of the team stats. I then store all of the team stats in a DataFrame with 22 columns (one for each stat) and two records (a row each for HOU and GS)."
   ]
  },
  {
   "cell_type": "code",
   "execution_count": 7,
   "metadata": {
    "collapsed": false
   },
   "outputs": [
    {
     "name": "stdout",
     "output_type": "stream",
     "text": [
      "Stat FG Made-Attempted: Visitor 32-81, Home 48-92\n",
      "Stat Field Goal %: Visitor 39.5, Home 52.2\n",
      "Stat 3PT Made-Attempted: Visitor 11-34, Home 13-32\n",
      "Stat Three Point %: Visitor 32.4, Home 40.6\n",
      "Stat FT Made-Attempted: Visitor 10-13, Home 17-18\n",
      "Stat Free Throw %: Visitor 76.9, Home 94.4\n",
      "Stat Total Rebounds: Visitor 41, Home 49\n",
      "Stat Offensive Rebounds: Visitor 10, Home 11\n",
      "Stat Defensive Rebounds: Visitor 31, Home 38\n",
      "Stat Assists: Visitor 19, Home 20\n",
      "Stat Steals: Visitor 3, Home 11\n",
      "Stat Blocks: Visitor 5, Home 7\n",
      "Stat Total Turnovers: Visitor 20, Home 8\n",
      "Stat Points Off Turnovers: Visitor 28, Home 8\n",
      "Stat Fast Break Points: Visitor 10, Home 23\n",
      "Stat Points in Paint: Visitor 40, Home 56\n",
      "Stat Personal Fouls: Visitor 19, Home 16\n",
      "Stat Technical Fouls: Visitor 2, Home 1\n",
      "Stat Flagrant Fouls: Visitor 0, Home 0\n"
     ]
    }
   ],
   "source": [
    "for row in tb.find_all('tr'):\n",
    "    tdx = [val for val in row.find_all('td')]\n",
    "    \n",
    "    #1st td: stat header\n",
    "    stat_name = tdx[0].contents[0].strip()\n",
    "    \n",
    "    #2nd td: visitor stat\n",
    "    visitor_stat = tdx[1].contents[0].strip()\n",
    "    \n",
    "    #3rd td: home stat\n",
    "    home_stat = tdx[2].contents[0].strip()\n",
    "    \n",
    "    print(f'Stat {stat_name}: Visitor {visitor_stat}, Home {home_stat}')"
   ]
  },
  {
   "cell_type": "code",
   "execution_count": 8,
   "metadata": {
    "collapsed": false
   },
   "outputs": [
    {
     "name": "stdout",
     "output_type": "stream",
     "text": [
      "    FG Made-Attempted Field Goal % 3PT Made-Attempted Three Point %  \\\n",
      "HOU             32-81         39.5              11-34          32.4   \n",
      "GS              48-92         52.2              13-32          40.6   \n",
      "\n",
      "    FT Made-Attempted Free Throw % Total Rebounds Offensive Rebounds  \\\n",
      "HOU             10-13         76.9             41                 10   \n",
      "GS              17-18         94.4             49                 11   \n",
      "\n",
      "    Defensive Rebounds Assists Steals Blocks Total Turnovers  \\\n",
      "HOU                 31      19      3      5              20   \n",
      "GS                  38      20     11      7               8   \n",
      "\n",
      "    Points Off Turnovers Fast Break Points Points in Paint Personal Fouls  \\\n",
      "HOU                   28                10              40             19   \n",
      "GS                     8                23              56             16   \n",
      "\n",
      "    Technical Fouls Flagrant Fouls  \n",
      "HOU               2              0  \n",
      "GS                1              0  \n"
     ]
    }
   ],
   "source": [
    "'''\n",
    "Want to replace one stat FG Made-Attempted \n",
    "into two stats FG Made, FG Attempted\n",
    "'''\n",
    "\n",
    "stat_names = []\n",
    "visitor_stats = []\n",
    "home_stats = []\n",
    "\n",
    "for row in tb.find_all('tr'):\n",
    "    tdx = [val for val in row.find_all('td')]\n",
    "    \n",
    "    stat_names.append(tdx[0].contents[0].strip())\n",
    "    \n",
    "    visitor_stats.append(tdx[1].contents[0].strip())\n",
    "    \n",
    "    home_stats.append(tdx[2].contents[0].strip())\n",
    "    \n",
    "import pandas as pd\n",
    "\n",
    "stats_df = pd.DataFrame(columns=stat_names)\n",
    "stats_df.loc[0] = visitor_stats\n",
    "stats_df.loc[1] = home_stats\n",
    "\n",
    "stats_df.index = ['HOU', 'GS']\n",
    "\n",
    "print(stats_df)\n"
   ]
  },
  {
   "cell_type": "markdown",
   "metadata": {},
   "source": [
    "## Fixing format and types of DataFrame\n",
    "\n",
    "There are two major changes I want to make to this dataframe.\n",
    "\n",
    "1. Some of the stats have hyphens in them to denote made shots vs. attempted shots.\n",
    "I want to split these stats (FG, 3PT, and FT) each into two separate stats.\n",
    "\n",
    "2. I want to convert all stats from string type to (float or int) type. The stats involving percentage will be converted to float type. The other stats will be converted to int type.\n",
    "\n"
   ]
  },
  {
   "cell_type": "code",
   "execution_count": 9,
   "metadata": {
    "collapsed": false
   },
   "outputs": [],
   "source": [
    "#In this cell, I will do the first task of transforming one stat into two stats.\n",
    "\n",
    "import copy\n",
    "\n",
    "expanded_stat_names = copy.deepcopy(stat_names) #don't want to alter original stat_names\n",
    "stat_names_copy = copy.deepcopy(stat_names)\n",
    "\n",
    "#turn 'FG Made-Attempted' into two stats 'FG Made' and 'FG Attempted'\n",
    "expanded_stat_names.insert(1, 'FG Attempted')\n",
    "expanded_stat_names[0] = 'FG Made'\n",
    "\n",
    "#convert 3PT Made-Attempted\n",
    "expanded_stat_names.insert(4, '3PT Attempted')\n",
    "expanded_stat_names[3] = '3PT Made'\n",
    "\n",
    "#convert FT Made-Attempted\n",
    "expanded_stat_names.insert(7, 'FT Attempted')\n",
    "expanded_stat_names[6] = 'FT Made'\n",
    "\n",
    "\n",
    "#create new DataFrame with these column names\n",
    "expanded_stats_df = pd.DataFrame(columns=expanded_stat_names)\n",
    "\n",
    "#initialize DataFrame with 0's\n",
    "row_of_zeros = [0 for stat in expanded_stat_names]\n",
    "expanded_stats_df.loc['HOU'] = row_of_zeros\n",
    "expanded_stats_df.loc['GS'] = row_of_zeros\n",
    "\n",
    "#transfer stats from stats_df that don't involve Made-Attempted \n",
    "stats_to_immediately_transfer = stat_names_copy\n",
    "\n",
    "stats_to_immediately_transfer.remove('FG Made-Attempted')\n",
    "stats_to_immediately_transfer.remove('3PT Made-Attempted')\n",
    "stats_to_immediately_transfer.remove('FT Made-Attempted')\n",
    "\n",
    "expanded_stats_df[stats_to_immediately_transfer] = stats_df[stats_to_immediately_transfer]\n",
    "\n",
    "def transfer_one_to_two(original_stat_name, new_stat_name_1, new_stat_name_2):\n",
    "    '''\n",
    "    Transfers Made-Attempted stat in original stats df to \n",
    "    two stats of made and attempted in expanded stats df\n",
    "    \n",
    "    Inputs:\n",
    "    Original_stat_name: column name '*** Made-Attempted'\n",
    "    new_stat_name_1: column name '*** Made'\n",
    "    new_stat_name_2: column name '*** Attempted'\n",
    "    \n",
    "    Output:\n",
    "    None (two columns of stats df are changed)\n",
    "    \n",
    "    '''\n",
    "    original_stat = stats_df[[original_stat_name]]\n",
    "    hou_stat = original_stat.iloc[0,0].split('-')\n",
    "    gs_stat = original_stat.iloc[1,0].split('-')\n",
    "    expanded_stats_df.loc['HOU', [new_stat_name_1,new_stat_name_2]] = hou_stat\n",
    "    expanded_stats_df.loc['GS', [new_stat_name_1, new_stat_name_2]] = gs_stat\n",
    "    \n",
    "transfer_one_to_two('FG Made-Attempted', 'FG Made', 'FG Attempted')\n",
    "transfer_one_to_two('3PT Made-Attempted', '3PT Made', '3PT Attempted')\n",
    "transfer_one_to_two('FT Made-Attempted', 'FT Made', 'FT Attempted')"
   ]
  },
  {
   "cell_type": "code",
   "execution_count": 10,
   "metadata": {
    "collapsed": false
   },
   "outputs": [],
   "source": [
    "'''\n",
    "I will now change all of the entries of the DataFrame into ints and floats.\n",
    "The entries in the columns with %'s (FG, 3PT, and FT) will be cast as floats.\n",
    "The entries in the other columns will be cast as ints.\n",
    "'''\n",
    "\n",
    "#print(expanded_stats_df.loc[:, ['Total Rebounds', 'Offensive Rebounds', 'Defensive Rebounds']])\n",
    "\n",
    "#columns to cast as float's\n",
    "float_columns = ['Field Goal %', 'Three Point %', 'Free Throw %']\n",
    "\n",
    "#columns to cast as int's\n",
    "int_columns = copy.deepcopy(expanded_stat_names)\n",
    "for column in float_columns:\n",
    "    int_columns.remove(column)\n",
    "\n",
    "#cast % columns as floats\n",
    "for column in float_columns:\n",
    "    expanded_stats_df.loc['HOU', column] = float(expanded_stats_df.loc['HOU', column])\n",
    "    expanded_stats_df.loc['GS', column] = float(expanded_stats_df.loc['GS', column])\n",
    "\n",
    "#cast other columns as ints\n",
    "for column in int_columns:\n",
    "    expanded_stats_df.loc['HOU', column] = int(expanded_stats_df.loc['HOU', column])\n",
    "    expanded_stats_df.loc['GS', column] = int(expanded_stats_df.loc['GS', column])"
   ]
  },
  {
   "cell_type": "code",
   "execution_count": 11,
   "metadata": {
    "collapsed": false
   },
   "outputs": [
    {
     "name": "stdout",
     "output_type": "stream",
     "text": [
      "    FG Made FG Attempted Field Goal % 3PT Made 3PT Attempted Three Point %  \\\n",
      "HOU      32           81         39.5       11            34          32.4   \n",
      "GS       48           92         52.2       13            32          40.6   \n",
      "\n",
      "    FT Made FT Attempted Free Throw %  \n",
      "HOU      10           13         76.9  \n",
      "GS       17           18         94.4  \n",
      "    Total Rebounds Offensive Rebounds Defensive Rebounds Assists Steals  \\\n",
      "HOU             41                 10                 31      19      3   \n",
      "GS              49                 11                 38      20     11   \n",
      "\n",
      "    Blocks Total Turnovers Points Off Turnovers Fast Break Points  \\\n",
      "HOU      5              20                   28                10   \n",
      "GS       7               8                    8                23   \n",
      "\n",
      "    Points in Paint Personal Fouls Technical Fouls Flagrant Fouls  \n",
      "HOU              40             19               2              0  \n",
      "GS               56             16               1              0  \n"
     ]
    }
   ],
   "source": [
    "#We can now see our final DataFrame (split midway through to show all columns)\n",
    "\n",
    "print(expanded_stats_df.loc[:, :'Free Throw %'])\n",
    "print(expanded_stats_df.loc[:, 'Total Rebounds':])"
   ]
  },
  {
   "cell_type": "code",
   "execution_count": null,
   "metadata": {
    "collapsed": true
   },
   "outputs": [],
   "source": []
  }
 ],
 "metadata": {
  "kernelspec": {
   "display_name": "Python 3",
   "language": "python",
   "name": "python3"
  },
  "language_info": {
   "codemirror_mode": {
    "name": "ipython",
    "version": 3
   },
   "file_extension": ".py",
   "mimetype": "text/x-python",
   "name": "python",
   "nbconvert_exporter": "python",
   "pygments_lexer": "ipython3",
   "version": "3.6.0"
  }
 },
 "nbformat": 4,
 "nbformat_minor": 2
}
